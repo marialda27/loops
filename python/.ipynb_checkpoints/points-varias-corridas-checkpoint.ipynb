{
 "cells": [
  {
   "cell_type": "code",
   "execution_count": 1,
   "id": "244bdb3b",
   "metadata": {},
   "outputs": [],
   "source": [
    "import matplotlib.animation as animation\n",
    "import matplotlib.pyplot as pylt\n",
    "import numpy as np\n",
    "import pylab as plt\n",
    "import matplotlib.cm as matcm\n",
    "import matplotlib.colors as colors\n",
    "import sys\n",
    "import os\n",
    "sys.path.append('/home/cecere/Documentos/python_fomo')\n",
    "from readfomo import readgoftcube, readgoftcubechianti, regulargoftcube, gaussfitgoftcube\n",
    "import glob\n",
    "import sunpy.visualization.colormaps as cm\n",
    "import sunpy\n",
    "from astropy.visualization import SqrtStretch, ImageNormalize"
   ]
  },
  {
   "cell_type": "code",
   "execution_count": 2,
   "id": "87a3d97c",
   "metadata": {},
   "outputs": [],
   "source": [
    "# store filenames as a sorted list\n",
    "unsorted1=glob.glob('/home/cecere/programas/fomo/fomo-c/example/example_loops/des3/desequilibrio_3-171-t*.txt')\n",
    "filelist1=sorted(unsorted1)\n",
    "unsorted2=glob.glob('/home/cecere/programas/fomo/fomo-c/example/example_loops/des4/desequilibrio_4-171-t*.txt')\n",
    "filelist2=sorted(unsorted2)\n",
    "unsorted3=glob.glob('/home/cecere/programas/fomo/fomo-c/example/example_loops/des5/desequilibrio_5-171-t*.txt')\n",
    "filelist3=sorted(unsorted3)"
   ]
  },
  {
   "cell_type": "code",
   "execution_count": 3,
   "id": "853c90cf",
   "metadata": {},
   "outputs": [
    {
     "name": "stdout",
     "output_type": "stream",
     "text": [
      "Reading file /home/cecere/programas/fomo/fomo-c/example/example_loops/des3/desequilibrio_3-171-t0000.txt\n",
      "Reading file /home/cecere/programas/fomo/fomo-c/example/example_loops/des4/desequilibrio_4-171-t0000.txt\n",
      "Reading file /home/cecere/programas/fomo/fomo-c/example/example_loops/des5/desequilibrio_5-171-t0000.txt\n"
     ]
    }
   ],
   "source": [
    "# create data cube from file list\n",
    "print('Reading file',filelist1[0])\n",
    "data1,chiantifile=readgoftcubechianti(filelist1[0])\n",
    "emiss1,xvec,yvec,lvec=regulargoftcube(data1)\n",
    "print('Reading file',filelist2[0])\n",
    "data2,chiantifile=readgoftcubechianti(filelist2[0])\n",
    "emiss2,xvec,yvec,lvec=regulargoftcube(data2)\n",
    "print('Reading file',filelist3[0])\n",
    "data3,chiantifile=readgoftcubechianti(filelist3[0])\n",
    "emiss3,xvec,yvec,lvec=regulargoftcube(data3)\n",
    "#print('xvec',xvec.shape)\n",
    "#print('yvec',yvec.shape)"
   ]
  },
  {
   "cell_type": "markdown",
   "id": "1e7dd53d",
   "metadata": {},
   "source": [
    "Emiss esta escrito asi (yind de arriba a abajo,xind de izquierda a derecha)"
   ]
  },
  {
   "cell_type": "code",
   "execution_count": 4,
   "id": "b6b68375",
   "metadata": {
    "scrolled": true
   },
   "outputs": [
    {
     "name": "stdout",
     "output_type": "stream",
     "text": [
      "xind 20\n",
      "yind 150\n",
      "0.0\n",
      "0.0\n",
      "0.0\n"
     ]
    }
   ],
   "source": [
    "L0 = 35 #Mm\n",
    "xvecdim = xvec/np.amax(xvec)*L0\n",
    "yvecdim = yvec/np.amax(yvec)*L0\n",
    "xpoint = 2  #in Mm\n",
    "ypoint = L0 - 20 #in Mm\n",
    "xind = int(xpoint/L0*xvec.size)\n",
    "yind = int(ypoint/L0*yvec.size)\n",
    "print('xind',xind)\n",
    "print('yind',yind)\n",
    "print(emiss1[yind,xind])\n",
    "print(emiss2[yind,xind])\n",
    "print(emiss3[yind,xind])"
   ]
  },
  {
   "cell_type": "code",
   "execution_count": 5,
   "id": "a040b686",
   "metadata": {},
   "outputs": [
    {
     "name": "stdout",
     "output_type": "stream",
     "text": [
      "newy [19.9284686]\n",
      "newx [2.05293278]\n"
     ]
    }
   ],
   "source": [
    "#posición en Mm del punto en \"x\" y en \"y\"\n",
    "newy=L0 - yvecdim[yind:yind+1]\n",
    "newx=xvecdim[xind:xind+1]\n",
    "print('newy',newy)\n",
    "print('newx',newx)"
   ]
  },
  {
   "cell_type": "code",
   "execution_count": 6,
   "id": "5756a678",
   "metadata": {},
   "outputs": [],
   "source": [
    "newemiss1=emiss1[yind:yind+1,xind:xind+1]\n",
    "allemiss1=newemiss1\n",
    "newemiss2=emiss2[yind:yind+1,xind:xind+1]\n",
    "allemiss2=newemiss2\n",
    "newemiss3=emiss3[yind:yind+1,xind:xind+1]\n",
    "allemiss3=newemiss3"
   ]
  },
  {
   "cell_type": "code",
   "execution_count": 7,
   "id": "e7f8dbe3",
   "metadata": {},
   "outputs": [],
   "source": [
    "for filename1 in filelist1[1:]:\n",
    "    #print('Reading file',filename)\n",
    "    data1=readgoftcube(filename1)\n",
    "    emiss1,xvec,yvec,lvec=regulargoftcube(data1)\n",
    "    #tomo un ancho en y para que quede mejor el gráfico\n",
    "    newemiss1=emiss1[yind:yind+1,xind:xind+1]\n",
    "    #print(newemiss)\n",
    "    #construyo una nueva matriz, suma de los cortes en cada tiempo\n",
    "    allemiss1=np.concatenate((allemiss1,newemiss1), axis=0)\n",
    "    #print(allemiss.shape)\n"
   ]
  },
  {
   "cell_type": "code",
   "execution_count": 19,
   "id": "ec6e3923",
   "metadata": {},
   "outputs": [
    {
     "name": "stdout",
     "output_type": "stream",
     "text": [
      "(122500, 3)\n"
     ]
    }
   ],
   "source": [
    "print(data1.shape)"
   ]
  },
  {
   "cell_type": "code",
   "execution_count": 8,
   "id": "ffedbd04",
   "metadata": {},
   "outputs": [],
   "source": [
    "for filename2 in filelist2[1:]:\n",
    "    #print('Reading file',filename)\n",
    "    data2=readgoftcube(filename2)\n",
    "    emiss2,xvec,yvec,lvec=regulargoftcube(data2)\n",
    "    #tomo un ancho en y para que quede mejor el gráfico\n",
    "    newemiss2=emiss2[yind:yind+1,xind:xind+1]\n",
    "    #print(newemiss)\n",
    "    #construyo una nueva matriz, suma de los cortes en cada tiempo\n",
    "    allemiss2=np.concatenate((allemiss2,newemiss2), axis=0)\n",
    "    #print(allemiss.shape)"
   ]
  },
  {
   "cell_type": "code",
   "execution_count": 9,
   "id": "1729c44c",
   "metadata": {},
   "outputs": [],
   "source": [
    "for filename3 in filelist3[1:]:\n",
    "    #print('Reading file',filename)\n",
    "    data3=readgoftcube(filename3)\n",
    "    emiss3,xvec,yvec,lvec=regulargoftcube(data3)\n",
    "    #tomo un ancho en y para que quede mejor el gráfico\n",
    "    newemiss3=emiss3[yind:yind+1,xind:xind+1]\n",
    "    #print(newemiss)\n",
    "    #construyo una nueva matriz, suma de los cortes en cada tiempo\n",
    "    allemiss3=np.concatenate((allemiss3,newemiss3), axis=0)\n",
    "    #print(allemiss.shape)"
   ]
  },
  {
   "cell_type": "code",
   "execution_count": 10,
   "id": "e001b389",
   "metadata": {},
   "outputs": [
    {
     "name": "stdout",
     "output_type": "stream",
     "text": [
      "(350, 350)\n"
     ]
    }
   ],
   "source": [
    "print(emiss1.shape)"
   ]
  },
  {
   "cell_type": "code",
   "execution_count": 11,
   "id": "88a8c32d",
   "metadata": {},
   "outputs": [],
   "source": [
    "tdim=np.linspace(0.,allemiss1.shape[0]*0.5,num=allemiss1.shape[0])\n",
    "#print(allemiss.shape[0])\n",
    "#print(tdim)"
   ]
  },
  {
   "cell_type": "code",
   "execution_count": 12,
   "id": "d57f9f18",
   "metadata": {},
   "outputs": [],
   "source": [
    "# set colour map\n",
    "cmap=matcm.hot\n",
    "aiafilter=os.path.basename(chiantifile)\n",
    "if ('goft_table_aia094' in aiafilter): cmap=plt.get_cmap('sdoaia094')\n",
    "if ('goft_table_aia131' in aiafilter): cmap=plt.get_cmap('sdoaia131')\n",
    "if ('goft_table_aia171' in aiafilter): cmap=plt.get_cmap('sdoaia171')\n",
    "if ('goft_table_aia193' in aiafilter): cmap=plt.get_cmap('sdoaia193')\n",
    "if ('goft_table_aia211' in aiafilter): cmap=plt.get_cmap('sdoaia211')\n",
    "if ('goft_table_aia304' in aiafilter): cmap=plt.get_cmap('sdoaia304')\n",
    "if ('goft_table_aia335' in aiafilter): cmap=plt.get_cmap('sdoaia335')\n",
    "#Estos valores de normalización son los necesarios para que la corona brille hasta una altura similar al filtro correspondiente\n",
    "if ('goft_table_aia094' in aiafilter): norm=colors.LogNorm(1.5, 50)\n",
    "if ('goft_table_aia131' in aiafilter): norm=colors.LogNorm(7, 1200)\n",
    "if ('goft_table_aia171' in aiafilter): norm=ImageNormalize(vmin=60000, vmax=1000000, stretch=SqrtStretch())\n",
    "#if ('goft_table_aia171' in aiafilter): norm=ImageNormalize(vmin=10, vmax=6000, stretch=SqrtStretch())\n",
    "if ('goft_table_aia193' in aiafilter): norm=colors.LogNorm(1, 6000)\n",
    "if ('goft_table_aia211' in aiafilter): norm=colors.LogNorm(1, 13000)\n",
    "if ('goft_table_aia304' in aiafilter): norm=colors.LogNorm(1, 600)\n",
    "if ('goft_table_aia335' in aiafilter): norm=colors.LogNorm(3.5, 1000)"
   ]
  },
  {
   "cell_type": "code",
   "execution_count": 13,
   "id": "863c0655",
   "metadata": {},
   "outputs": [
    {
     "data": {
      "image/png": "[encoded data removed]",
      "text/plain": [
       "<Figure size 432x288 with 2 Axes>"
      ]
     },
     "metadata": {
      "needs_background": "light"
     },
     "output_type": "display_data"
    }
   ],
   "source": [
    "percent_emiss=99\n",
    "fig, ax = plt.subplots()\n",
    "im = ax.imshow(emiss2,cmap=cmap,aspect='auto',vmax=np.percentile(emiss2,percent_emiss),vmin=np.amin(emiss2))\n",
    "#im = ax.imshow(emiss2,cmap=cmap,aspect='auto')\n",
    "plt.title('integrated intensity')\n",
    "cb=plt.colorbar(im)\n",
    "cb.set_label('DN/s')\n",
    "\n",
    "plt.tight_layout()\n",
    "plt.show()"
   ]
  },
  {
   "cell_type": "code",
   "execution_count": 14,
   "id": "4d8478dd",
   "metadata": {},
   "outputs": [
    {
     "name": "stdout",
     "output_type": "stream",
     "text": [
      "(100, 1)\n"
     ]
    }
   ],
   "source": [
    "print(allemiss1.shape)"
   ]
  },
  {
   "cell_type": "code",
   "execution_count": 15,
   "id": "244caaea",
   "metadata": {},
   "outputs": [
    {
     "data": {
      "text/plain": [
       "[<matplotlib.lines.Line2D at 0x7f0f9a1d2260>]"
      ]
     },
     "execution_count": 15,
     "metadata": {},
     "output_type": "execute_result"
    },
    {
     "data": {
      "image/png": "[encoded data removed]",
      "text/plain": [
       "<Figure size 432x288 with 1 Axes>"
      ]
     },
     "metadata": {
      "needs_background": "light"
     },
     "output_type": "display_data"
    }
   ],
   "source": [
    "plt.plot(tdim,allemiss1,label='E')"
   ]
  },
  {
   "cell_type": "code",
   "execution_count": 18,
   "id": "66951044",
   "metadata": {},
   "outputs": [
    {
     "data": {
      "image/png": "[encoded data removed]",
      "text/plain": [
       "<Figure size 432x288 with 1 Axes>"
      ]
     },
     "metadata": {
      "needs_background": "light"
     },
     "output_type": "display_data"
    }
   ],
   "source": [
    "pemisdes3,  = plt.plot(tdim,allemiss1,label='Des3')\n",
    "pemisdes4,  = plt.plot(tdim,allemiss2,label='Des4')\n",
    "pemisdes5,  = plt.plot(tdim,allemiss3,label='Des5')\n",
    "\n",
    "plt.legend(handles=[pemisdes3,pemisdes4,pemisdes5])\n",
    "\n",
    "#plt.xlim(tmin, tmax)\n",
    "#plt.ylim(emin, emax)\n",
    "\n",
    "plt.title('Desequilibrios')\n",
    "plt.xlabel('time [s]')\n",
    "plt.ylabel('131')\n",
    "plt.savefig('/home/cecere/programas/fomo/fomo-c/example/example_loops/comparacion-171.png', bbox_inches='tight') \n"
   ]
  },
  {
   "cell_type": "code",
   "execution_count": null,
   "id": "7ec88098",
   "metadata": {},
   "outputs": [],
   "source": [
    "pdensdes3,  = plt.plot(tdim,data1,label='Des3')\n",
    "pdensdes4,  = plt.plot(tdim,data2,label='Des4')\n",
    "pdensdes5,  = plt.plot(tdim,data3,label='Des5')\n",
    "\n",
    "plt.legend(handles=[pemisdes3,pemisdes4,pemisdes5])\n",
    "\n",
    "#plt.xlim(tmin, tmax)\n",
    "#plt.ylim(emin, emax)\n",
    "\n",
    "plt.title('Desequilibrios')\n",
    "plt.xlabel('time [s]')\n",
    "plt.ylabel('131')\n",
    "plt.savefig('/home/cecere/programas/fomo/fomo-c/example/example_loops/comparacion-171.png', bbox_inches='tight')"
   ]
  }
 ],
 "metadata": {
  "kernelspec": {
   "display_name": "Python 3 (ipykernel)",
   "language": "python",
   "name": "python3"
  },
  "language_info": {
   "codemirror_mode": {
    "name": "ipython",
    "version": 3
   },
   "file_extension": ".py",
   "mimetype": "text/x-python",
   "name": "python",
   "nbconvert_exporter": "python",
   "pygments_lexer": "ipython3",
   "version": "3.10.4"
  }
 },
 "nbformat": 4,
 "nbformat_minor": 5
}
