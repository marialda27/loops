{
 "cells": [
  {
   "cell_type": "code",
   "execution_count": 1,
   "metadata": {},
   "outputs": [],
   "source": [
    "import numpy as np\n",
    "import matplotlib.pyplot as plt\n",
    "import numpy.polynomial.polynomial as poly\n",
    "import matplotlib\n",
    "from matplotlib.backends.backend_pdf import PdfPages\n",
    "from scipy import fftpack"
   ]
  },
  {
   "cell_type": "code",
   "execution_count": 2,
   "metadata": {},
   "outputs": [],
   "source": [
    "path= '/home/hcapettini/Escritorio/HDD1TB/Tesis/Analísis/Mayo/'             \n",
    "#path = '/media/adminpc/Hilario-2/Tesis/Analísis/Mayo/'\n",
    "\n",
    "simulacion='pulso_4' \n",
    "#simulacion='desequilibrio_5' \n",
    "\n",
    "pathr=path+simulacion+'/'+simulacion\n",
    "pathw=path\n",
    "\n",
    "#Tiempo a analizar\n",
    "tmin_FT =0\n",
    "tmax_FT =500\n",
    "varstr='dens'\n",
    "f_m = 0.5"
   ]
  },
  {
   "cell_type": "code",
   "execution_count": 3,
   "metadata": {},
   "outputs": [],
   "source": [
    "radio= 3.e8;\n",
    "largo= 25.e8;\n",
    "\n",
    "c=2;                #ancho EN celdas por ejemplo cada 5 celdas Xcinco celdas hay un punto el ancho es 5\n",
    "dc=0.1e8;           #Este es el ancho de cada celda de acuerdo al refinamiento\n",
    "space = c * dc;\n",
    "x0=space/2.;         #Indicar el punto inical el x\n",
    "y0=5.e8 +space/2.; #Indicar el punto inical el y\n",
    "\n",
    "nx=int(radio/(c*dc));\n",
    "ny=int(largo/(c*dc));\n"
   ]
  },
  {
   "cell_type": "code",
   "execution_count": 4,
   "metadata": {},
   "outputs": [],
   "source": [
    "for j in range (0,ny):  \n",
    "    for i in range (0,nx):\n",
    "        x=x0 +i*space\n",
    "        y=y0 +j*space\n",
    "        pos='_'+str(x/1.e8)+ '_'+str(y/1.e8)+ '_'\n",
    "        with open(pathr +pos+ varstr+'.txt') as var:\n",
    "            varlines = var.readlines()[:]\n",
    "            time  = [float(line.split()[0]) for line in varlines]\n",
    "            varx = [float(line.split()[1]) for line in varlines]\n",
    "        time = np.array(time)\n",
    "        variable = np.array(varx)\n",
    " \n",
    "        nmin_FT = np.int(tmin_FT/f_m)\n",
    "        nmax_FT = np.int(tmax_FT/f_m)\n",
    "  \n",
    "        variable_FT = variable[nmin_FT:nmax_FT]\n",
    "        time_FT = time[nmin_FT:nmax_FT]\n",
    "    \n",
    "        p = np.poly1d(np.polyfit(time_FT, variable_FT, 2))\n",
    "        t = np.linspace(tmin_FT, tmax_FT, np.size(time_FT))\n",
    "        variable_FT = variable_FT-p(t)\n",
    "        \n",
    "        FT = fftpack.fft(variable_FT)\n",
    "        freqs = fftpack.fftfreq(len(variable_FT), d=f_m)\n",
    "        \n",
    "        #Por alguna razón FT y freqs tiene todos los datos dos veces repetidos y por lo tanto \n",
    "        #si guardo la mitad de los datos tengo toda la información\n",
    "        g=len(FT)/2 +1\n",
    "        g=int(g)\n",
    "        data = np.array([np.abs(freqs[0:g]), np.abs(FT[0:g])]) #Le tengo que poner un abs a la fcuencia porque sino me repite lo mismo en frecuencias negativas y en FT para eliminar el temrino complejo\n",
    "        data = data.T\n",
    "        datafile_path = pathw + simulacion + '/'+simulacion+pos+'TF_'+str(tmin_FT)+'_'+str(tmax_FT)+'_'+varstr+'.txt'\n",
    "        with open(datafile_path, 'w+') as datafile_id:\n",
    "            np.savetxt(datafile_id, data)\n"
   ]
  },
  {
   "cell_type": "code",
   "execution_count": null,
   "metadata": {},
   "outputs": [],
   "source": []
  }
 ],
 "metadata": {
  "kernelspec": {
   "display_name": "Python 3 (ipykernel)",
   "language": "python",
   "name": "python3"
  },
  "language_info": {
   "codemirror_mode": {
    "name": "ipython",
    "version": 3
   },
   "file_extension": ".py",
   "mimetype": "text/x-python",
   "name": "python",
   "nbconvert_exporter": "python",
   "pygments_lexer": "ipython3",
   "version": "3.10.2"
  }
 },
 "nbformat": 4,
 "nbformat_minor": 4
}
