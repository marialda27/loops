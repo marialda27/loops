{
 "cells": [
  {
   "cell_type": "code",
   "execution_count": 1,
   "metadata": {},
   "outputs": [],
   "source": [
    "import numpy as np\n",
    "import matplotlib.pyplot as plt\n",
    "import numpy.polynomial.polynomial as poly\n",
    "import matplotlib\n",
    "from matplotlib.backends.backend_pdf import PdfPages\n",
    "from scipy import fftpack"
   ]
  },
  {
   "cell_type": "code",
   "execution_count": 62,
   "metadata": {},
   "outputs": [],
   "source": [
    "path= '/home/hcapettini/Escritorio/HDD1TB/Tesis/Analísis/Mayo/'             \n",
    "#path = '/media/adminpc/Hilario-2/Tesis/Analísis/Mayo/'\n",
    "\n",
    "simulacion='pulso_4' \n",
    "#simulacion='desequilibrio_3' \n",
    "\n",
    "pathr=path+simulacion+'/'+simulacion\n",
    "\n",
    "#Tiempo a analizar\n",
    "tmin =0\n",
    "tmax =500\n",
    "varstr='dens'"
   ]
  },
  {
   "cell_type": "code",
   "execution_count": 63,
   "metadata": {},
   "outputs": [],
   "source": [
    "radio= 3.e8;\n",
    "largo= 25.e8;\n",
    "\n",
    "c=2;                #ancho EN celdas por ejemplo cada 5 celdas Xcinco celdas hay un punto el ancho es 5\n",
    "dc=0.1e8;           #Este es el ancho de cada celda de acuerdo al refinamiento\n",
    "space = c * dc;\n",
    "x0=space/2.;         #Indicar el punto inical el x\n",
    "y0=5.e8 +space/2.; #Indicar el punto inical el y\n",
    "#ymax=30.e8\n",
    "nx=int(radio/(c*dc));\n",
    "ny=int(largo/(c*dc));"
   ]
  },
  {
   "cell_type": "code",
   "execution_count": 64,
   "metadata": {},
   "outputs": [
    {
     "data": {
      "text/plain": [
       "125"
      ]
     },
     "execution_count": 64,
     "metadata": {},
     "output_type": "execute_result"
    }
   ],
   "source": [
    "ny"
   ]
  },
  {
   "cell_type": "code",
   "execution_count": 65,
   "metadata": {},
   "outputs": [],
   "source": [
    "pos='_'+str(x0/1.e8)+ '_'+str(y0/1.e8)+ '_'\n",
    "with open(pathr +pos+ varstr+'.txt') as var:\n",
    "    varlines = var.readlines()[:]\n",
    "    time  = [float(line.split()[0]) for line in varlines]\n",
    "\n",
    "nt=len(time)\n",
    "variable=np.zeros((ny, nx,nt))"
   ]
  },
  {
   "cell_type": "code",
   "execution_count": 66,
   "metadata": {},
   "outputs": [],
   "source": [
    "for j in range (0,ny):  \n",
    "    for i in range (0,nx):\n",
    "        x=x0 +i*space\n",
    "        y=y0 +j*space\n",
    "        pos='_'+str(x/1.e8)+ '_'+str(y/1.e8)+ '_'\n",
    "        with open(pathr +pos+ varstr+'.txt') as var:\n",
    "            varlines = var.readlines()[:]\n",
    "            varx = [float(line.split()[1]) for line in varlines]\n",
    "        variablen = np.array(varx)\n",
    "        \n",
    "        \n",
    "        variable[j,i,:]=variablen"
   ]
  },
  {
   "cell_type": "code",
   "execution_count": 67,
   "metadata": {},
   "outputs": [
    {
     "data": {
      "text/plain": [
       "(125, 15, 1001)"
      ]
     },
     "execution_count": 67,
     "metadata": {},
     "output_type": "execute_result"
    }
   ],
   "source": [
    "#plt.plot(time,variable[0,0,:])\n",
    "#plt.xlim(0., 0.2)\n",
    "variable.shape"
   ]
  },
  {
   "cell_type": "code",
   "execution_count": 69,
   "metadata": {},
   "outputs": [],
   "source": [
    "t = 0\n",
    "xmin =0.e8\n",
    "xmax =3.e8\n",
    "ymin =0.e8\n",
    "ymax =25.e8\n",
    "\n",
    "nxmin=int(xmin/space)\n",
    "nxmax=int(xmax/space)\n",
    "nymin=int(ymin/space)\n",
    "nymax=int(ymax/space)\n",
    "\n",
    "dt=(tmax-tmin)/nt\n",
    "n=int(t/dt)\n",
    "rango=((xmin)/1.e8,xmax/1.e8,(ymin+5.e8)/1.e8,(ymax+5.e8)/1.e8)"
   ]
  },
  {
   "cell_type": "code",
   "execution_count": 70,
   "metadata": {},
   "outputs": [
    {
     "name": "stdout",
     "output_type": "stream",
     "text": [
      "0 15 0 125\n"
     ]
    }
   ],
   "source": [
    "print(nxmin,nxmax,nymin,nymax)"
   ]
  },
  {
   "cell_type": "code",
   "execution_count": 71,
   "metadata": {},
   "outputs": [
    {
     "data": {
      "image/png": "[encoded data removed]",
      "text/plain": [
       "<Figure size 432x288 with 2 Axes>"
      ]
     },
     "metadata": {
      "needs_background": "light"
     },
     "output_type": "display_data"
    }
   ],
   "source": [
    "plt.imshow(variable[nymin:nymax,nxmin:nxmax,n], cmap='viridis', extent=rango,origin='lower')\n",
    "plt.title('Densidad en t='+str(t))\n",
    "plt.ylabel(r'${z}$ [Mm]',fontsize=17)  \n",
    "plt.xlabel(r'${r}$ [Mm]',fontsize=17)\n",
    "plt.colorbar()\n",
    "#plt.clim(0.85e-13,1.15e-13)\n",
    "plt.show()\n"
   ]
  },
  {
   "cell_type": "code",
   "execution_count": 45,
   "metadata": {},
   "outputs": [],
   "source": [
    "t0=0.5\n",
    "t1=4\n",
    "t2=30\n",
    "\n",
    "xmin =0.e8\n",
    "xmax =3.e8\n",
    "ymin =0.5e8\n",
    "ymax =25.e8\n",
    "\n",
    "\n",
    "\n",
    "\n",
    "\n",
    "\n",
    "\n",
    "\n",
    "nxmin=int(xmin/space)\n",
    "nxmax=int(xmax/space)\n",
    "nymin=int(ymin/space)\n",
    "nymax=int(ymax/space)\n",
    "\n",
    "rango=((xmin)/1.e8,xmax/1.e8,(ymin+5.e8)/1.e8,(ymax+5.e8)/1.e8)\n",
    "\n",
    "n0=int(t0/dt)\n",
    "d0=variable[nymin:nymax,nxmin:nxmax,n0]\n",
    "d0min=np.amin(d0)\n",
    "d0max=np.amax(d0)\n",
    "\n",
    "n1=int(t1/dt)\n",
    "d1=variable[nymin:nymax,nxmin:nxmax,n1]\n",
    "d1min=np.amin(d1)\n",
    "d1max=np.amax(d1)\n",
    "\n",
    "n2=int(t2/dt)\n",
    "d2=variable[nymin:nymax,nxmin:nxmax,n2]\n",
    "d2min=np.amin(d2)\n",
    "d2max=np.amax(d2)\n",
    "\n",
    "colorbarmin =min(d0min,d1min,d2min)\n",
    "colorbarmax =max(d0max,d1max,d2max)"
   ]
  },
  {
   "cell_type": "code",
   "execution_count": 46,
   "metadata": {},
   "outputs": [
    {
     "name": "stderr",
     "output_type": "stream",
     "text": [
      "/home/hcapettini/anaconda3/lib/python3.7/site-packages/ipykernel_launcher.py:16: MatplotlibDeprecationWarning: \n",
      "The set_clim function was deprecated in Matplotlib 3.1 and will be removed in 3.3. Use ScalarMappable.set_clim instead.\n",
      "  app.launch_new_instance()\n"
     ]
    },
    {
     "data": {
      "image/png": "[encoded data removed]",
      "text/plain": [
       "<Figure size 396x216 with 4 Axes>"
      ]
     },
     "metadata": {
      "needs_background": "light"
     },
     "output_type": "display_data"
    }
   ],
   "source": [
    "fig, (ax0, ax1, ax2, cax) = plt.subplots(ncols=4,figsize=(5.5,3), \n",
    "                  gridspec_kw={\"width_ratios\":[1,1,1, 0.05]})\n",
    "fig.subplots_adjust(wspace=0.3)\n",
    "im0  = ax0.imshow(d0, cmap='plasma', extent=rango,origin='lower', vmin=colorbarmin,vmax=colorbarmax)\n",
    "ax0.title.set_text('t='+str(t0)+ '[s]')\n",
    "\n",
    "im1 = ax1.imshow(d1, cmap='plasma', extent=rango,origin='lower', vmin=colorbarmin,vmax=colorbarmax)\n",
    "ax1.title.set_text('t='+str(t1)+ '[s]')\n",
    "\n",
    "im2 = ax2.imshow(d2, cmap='plasma', extent=rango,origin='lower', vmin=colorbarmin,vmax=colorbarmax)\n",
    "ax2.title.set_text('t='+str(t2)+ '[s]')\n",
    "\n",
    "cbar=fig.colorbar(im2, cax=cax, label='Densidad')\n",
    "\n",
    "\n",
    "cbar.set_clim(0, 0.5)\n",
    "\n",
    "plt.show()"
   ]
  },
  {
   "cell_type": "code",
   "execution_count": 26,
   "metadata": {},
   "outputs": [
    {
     "data": {
      "image/png": "[encoded data removed]",
      "text/plain": [
       "<Figure size 432x288 with 6 Axes>"
      ]
     },
     "metadata": {
      "needs_background": "light"
     },
     "output_type": "display_data"
    }
   ],
   "source": [
    "\n",
    "fig,ax = plt.subplots(1,3)\n",
    "\n",
    "im = ax[0].imshow(d0, cmap='seismic', extent=rango,origin='lower', vmin=colorbarmin,vmax=colorbarmax)\n",
    "fig.colorbar(im,ax=ax[0])\n",
    "\n",
    "im2 = ax[1].imshow(d1, cmap='seismic', extent=rango,origin='lower', vmin=colorbarmin,vmax=colorbarmax)\n",
    "plt.colorbar(im2,ax=ax[1])\n",
    "\n",
    "im3 = ax[2].imshow(d2, cmap='seismic', extent=rango,origin='lower', vmin=colorbarmin,vmax=colorbarmax)\n",
    "plt.colorbar(im3,ax=ax[2])\n",
    "\n",
    "plt.show()"
   ]
  },
  {
   "cell_type": "code",
   "execution_count": null,
   "metadata": {},
   "outputs": [],
   "source": []
  }
 ],
 "metadata": {
  "kernelspec": {
   "display_name": "Python 3 (ipykernel)",
   "language": "python",
   "name": "python3"
  },
  "language_info": {
   "codemirror_mode": {
    "name": "ipython",
    "version": 3
   },
   "file_extension": ".py",
   "mimetype": "text/x-python",
   "name": "python",
   "nbconvert_exporter": "python",
   "pygments_lexer": "ipython3",
   "version": "3.10.2"
  }
 },
 "nbformat": 4,
 "nbformat_minor": 4
}
