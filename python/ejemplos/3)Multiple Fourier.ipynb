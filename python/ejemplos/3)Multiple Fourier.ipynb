{
 "cells": [
  {
   "cell_type": "markdown",
   "metadata": {},
   "source": [
    "Este código genera TF de los datos obtenidos con Matlab, se puede realizar sobre mutiples \n",
    "archivos cambiando el parámetro pos y corre sobre las 6 variables que estamos analizando. \n",
    "\n",
    "\n",
    "Este ejemplo ayuda a entender como funciona la fft\n",
    "http://scipy-lectures.org/intro/scipy/auto_examples/plot_fftpack.html\n"
   ]
  },
  {
   "cell_type": "code",
   "execution_count": 1,
   "metadata": {},
   "outputs": [],
   "source": [
    "import numpy as np\n",
    "import matplotlib.pyplot as plt\n",
    "import numpy.polynomial.polynomial as poly\n",
    "import matplotlib\n",
    "from matplotlib.backends.backend_pdf import PdfPages\n",
    "from scipy import fftpack\n"
   ]
  },
  {
   "cell_type": "code",
   "execution_count": 8,
   "metadata": {},
   "outputs": [],
   "source": [
    "path= '/home/hcapettini/Escritorio/HDD1TB/Tesis/Analísis/Mayo/'             \n",
    "#path = '/media/adminpc/Hilario-2/Tesis/Analísis/Mayo/'\n",
    "\n",
    "simulacion='pulso_3' \n",
    "#simulacion='desequilibrio_3' \n",
    "\n",
    "pathr=path+simulacion+'/'+simulacion\n",
    "pathw=path\n",
    "\n",
    "#Tiempo a analizar\n",
    "tmin_FT =0\n",
    "tmax_FT =500\n",
    "f_m = 0.5"
   ]
  },
  {
   "cell_type": "code",
   "execution_count": 9,
   "metadata": {},
   "outputs": [],
   "source": [
    "for m in range (1,2):  #Este for pasa por distintos archivos en base a las posiciones\n",
    "    if m==1:\n",
    "        pos='_0.2_20.0_'\n",
    "    elif m==2:\n",
    "        pos='_0.2_26.0_'\n",
    "    elif m==3:\n",
    "        pos='_0.2_28.0_'\n",
    "    elif m==4:\n",
    "        pos='_0.2_26.0_'\n",
    "    elif m==5:\n",
    "        pos='_0.2_20.0_'\n",
    "    elif m==6:\n",
    "        pos='_0.2_29.7_'        \n",
    "    \n",
    "    \n",
    "    for n in range(1,7): #Este for pasa por las 6 variables que analizo\n",
    "        if n==1:\n",
    "            with open( pathr +pos+ 'velx.txt') as velx:\n",
    "                velxlines = velx.readlines()[2:]\n",
    "                time  = [float(line.split()[0]) for line in velxlines]\n",
    "                velxx = [float(line.split()[1]) for line in velxlines]\n",
    "            time = np.array(time)\n",
    "            variable = np.array(velxx)\n",
    "            variablestring='velx'\n",
    "        elif n==2:\n",
    "            with open( pathr +pos+ 'vely.txt') as vely:\n",
    "                velylines = vely.readlines()[2:]\n",
    "                time  = [float(line.split()[0]) for line in velylines]\n",
    "                velyy = [float(line.split()[1]) for line in velylines]\n",
    "            time = np.array(time)\n",
    "            variable = np.array(velyy)\n",
    "            variablestring='vely'\n",
    "            \n",
    "        elif n==3:\n",
    "            with open( pathr +pos+ 'magx.txt') as magx:\n",
    "                magxlines = magx.readlines()[2:]\n",
    "                time  = [float(line.split()[0]) for line in magxlines]\n",
    "                magxx = [float(line.split()[1]) for line in magxlines]\n",
    "            time = np.array(time)\n",
    "            variable = np.array(magxx)\n",
    "            variablestring='magx'\n",
    "        elif n==4: \n",
    "            with open( pathr +pos+ 'magy.txt') as magy:\n",
    "                magylines = magy.readlines()[2:]\n",
    "                time  = [float(line.split()[0]) for line in magylines]\n",
    "                magyy = [float(line.split()[1]) for line in magylines]\n",
    "            time = np.array(time)\n",
    "            variable = np.array(magyy)\n",
    "            variablestring='magy'\n",
    "        elif n==5:    \n",
    "            with open( pathr +pos+ 'dens.txt') as dens:\n",
    "                denslines = dens.readlines()[2:]\n",
    "                time  = [float(line.split()[0]) for line in denslines]\n",
    "                densy = [float(line.split()[1]) for line in denslines]\n",
    "            time = np.array(time)\n",
    "            variable = np.array(densy)\n",
    "            variablestring='dens'\n",
    "        elif n==6:     \n",
    "            with open( pathr +pos+ 'pres.txt') as pres:\n",
    "                preslines = pres.readlines()[2:]\n",
    "                time  = [float(line.split()[0]) for line in preslines]\n",
    "                presy = [float(line.split()[1]) for line in preslines]\n",
    "            time = np.array(time)\n",
    "            variable = np.array(presy)\n",
    "            variablestring='pres'\n",
    "            \n",
    "        nmin_FT = np.int(tmin_FT/f_m)\n",
    "        nmax_FT = np.int(tmax_FT/f_m)\n",
    "  \n",
    "        variable_FT = variable[nmin_FT:nmax_FT]\n",
    "        time_FT = time[nmin_FT:nmax_FT]\n",
    "\n",
    "        FT = fftpack.fft(variable_FT)\n",
    "        freqs = fftpack.fftfreq(len(variable_FT), d=f_m)\n",
    "        \n",
    "        data = np.array([np.abs(freqs), np.abs(FT)]) #Le tengo que poner un abs a la fcuencia porque sino me repite lo mismo en frecuencias negativas y en FT para eliminar el temrino complejo\n",
    "        data = data.T\n",
    "        datafile_path = pathw + simulacion + '/'+simulacion+pos+'TF_'+str(tmin_FT)+'_'+str(tmax_FT)+'_'+variablestring+'.txt'\n",
    "        with open(datafile_path, 'w+') as datafile_id:\n",
    "            np.savetxt(datafile_id, data)\n",
    "        \n",
    "        "
   ]
  },
  {
   "cell_type": "code",
   "execution_count": 10,
   "metadata": {},
   "outputs": [
    {
     "data": {
      "text/plain": [
       "'/home/hcapettini/Escritorio/HDD1TB/Tesis/Analísis/Mayo/pulso_3/pulso_3_0.2_20.0_TF_0_500_pres.txt'"
      ]
     },
     "execution_count": 10,
     "metadata": {},
     "output_type": "execute_result"
    }
   ],
   "source": [
    "pathw + simulacion + '/'+simulacion+pos+'TF_'+str(tmin_FT)+'_'+str(tmax_FT)+'_'+variablestring+'.txt'"
   ]
  },
  {
   "cell_type": "code",
   "execution_count": 6,
   "metadata": {},
   "outputs": [
    {
     "data": {
      "text/plain": [
       "49.1809082"
      ]
     },
     "execution_count": 6,
     "metadata": {},
     "output_type": "execute_result"
    }
   ],
   "source": [
    "variable_FT[nmin_FT]"
   ]
  },
  {
   "cell_type": "code",
   "execution_count": null,
   "metadata": {},
   "outputs": [],
   "source": []
  },
  {
   "cell_type": "code",
   "execution_count": null,
   "metadata": {},
   "outputs": [],
   "source": []
  }
 ],
 "metadata": {
  "kernelspec": {
   "display_name": "Python 3",
   "language": "python",
   "name": "python3"
  },
  "language_info": {
   "codemirror_mode": {
    "name": "ipython",
    "version": 3
   },
   "file_extension": ".py",
   "mimetype": "text/x-python",
   "name": "python",
   "nbconvert_exporter": "python",
   "pygments_lexer": "ipython3",
   "version": "3.9.5"
  }
 },
 "nbformat": 4,
 "nbformat_minor": 4
}
