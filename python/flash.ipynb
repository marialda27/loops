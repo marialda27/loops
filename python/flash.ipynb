{
 "cells": [
  {
   "cell_type": "code",
   "execution_count": 1,
   "id": "6e092e4b",
   "metadata": {},
   "outputs": [],
   "source": [
    "import matplotlib.animation as animation\n",
    "import matplotlib.pyplot as pylt\n",
    "import numpy as np\n",
    "import pylab as plt\n",
    "import matplotlib.cm as matcm\n",
    "import matplotlib.colors as colors\n",
    "import sys\n",
    "import os\n",
    "sys.path.append('/home/cecere/Documentos/python_fomo')\n",
    "from readfomo import readgoftcube, readgoftcubechianti, regulargoftcube, gaussfitgoftcube\n",
    "import glob\n",
    "import sunpy.visualization.colormaps as cm\n",
    "import sunpy\n",
    "from astropy.visualization import SqrtStretch, ImageNormalize\n"
   ]
  },
  {
   "cell_type": "code",
   "execution_count": 2,
   "id": "7e4bad5a",
   "metadata": {},
   "outputs": [
    {
     "name": "stdout",
     "output_type": "stream",
     "text": [
      "['/home/cecere/programas/fomo/fomo-c/example/example_loops/desequilibrio_5-131-t0019.txt']\n",
      "['/home/cecere/programas/fomo/fomo-c/example/example_loops/desequilibrio_5-131-t0019.txt']\n"
     ]
    }
   ],
   "source": [
    "# store filenames as a sorted list\n",
    "#unsorted=glob.glob('../example/example_FLASH/Afomo-hdf5-outputb.txt')\n",
    "# Para uno\n",
    "unsorted=glob.glob('/home/cecere/programas/fomo/fomo-c/example/example_loops/desequilibrio_5-131-t0019.txt')\n",
    "# Para varios\n",
    "#unsorted=glob.glob('/home/cecere/programas/fomo/fomo-c/example/example_loops/desequilibrio_5-131-t*.txt')\n",
    "print(unsorted)\n",
    "filelist=sorted(unsorted)\n",
    "print(filelist)"
   ]
  },
  {
   "cell_type": "code",
   "execution_count": 11,
   "id": "248cb553",
   "metadata": {},
   "outputs": [],
   "source": [
    "#f=open('/home/cecere/programas/fomo/fomo-c/example/example_loops/b2y280x2fC-171-t100.txt',\"r\")\n",
    "#alllines=f.readlines()\n",
    "#print(alllines[5])"
   ]
  },
  {
   "cell_type": "code",
   "execution_count": 3,
   "id": "ca3ed466",
   "metadata": {},
   "outputs": [
    {
     "name": "stdout",
     "output_type": "stream",
     "text": [
      "Reading file /home/cecere/programas/fomo/fomo-c/example/example_loops/desequilibrio_5-131-t0019.txt\n"
     ]
    }
   ],
   "source": [
    "print('Reading file',filelist[0])\n",
    "data,chiantifile=readgoftcubechianti(filelist[0])\n",
    "emiss,xvec,yvec,lvec=regulargoftcube(data)\n",
    "allemiss=emiss"
   ]
  },
  {
   "cell_type": "code",
   "execution_count": 4,
   "id": "f2b128e8",
   "metadata": {},
   "outputs": [
    {
     "name": "stdout",
     "output_type": "stream",
     "text": [
      "Reading file /home/cecere/programas/fomo/fomo-c/example/example_loops/desequilibrio_5-131-t0019.txt\n",
      "/home/cecere/programas/fomo/chiantitables/goft_table_aia131_abco.dat\n",
      "\n",
      "2\n",
      "(350, 350)\n",
      "(350,)\n",
      "(350,)\n"
     ]
    }
   ],
   "source": [
    "# create data cube from file list\n",
    "print('Reading file',filelist[0])\n",
    "data,chiantifile=readgoftcubechianti(filelist[0])\n",
    "emiss,xvec,yvec,lvec=regulargoftcube(data)\n",
    "allemiss=emiss\n",
    "print(chiantifile)\n",
    "#print(allemiss)\n",
    "print(allemiss.ndim)\n",
    "print(emiss.shape)\n",
    "print(xvec.shape)\n",
    "print(yvec.shape)\n",
    "for filename in filelist[1:]:\n",
    "    print('Reading file',filename)\n",
    "    data=readgoftcube(filename)\n",
    "    emiss,xvec,yvec,lvec=regulargoftcube(data)\n",
    "    allemiss=np.dstack((allemiss,emiss))"
   ]
  },
  {
   "cell_type": "code",
   "execution_count": 5,
   "id": "cfc11e85",
   "metadata": {},
   "outputs": [
    {
     "name": "stdout",
     "output_type": "stream",
     "text": [
      "(350, 350)\n"
     ]
    }
   ],
   "source": [
    "print(allemiss.shape)"
   ]
  },
  {
   "cell_type": "code",
   "execution_count": 6,
   "id": "db0d1f73",
   "metadata": {},
   "outputs": [
    {
     "name": "stdout",
     "output_type": "stream",
     "text": [
      "goft_table_aia131_abco.dat\n",
      "\n"
     ]
    }
   ],
   "source": [
    "# set colour map\n",
    "cmap=matcm.hot\n",
    "aiafilter=os.path.basename(chiantifile)\n",
    "print(aiafilter)\n",
    "if ('goft_table_aia094' in aiafilter): cmap=plt.get_cmap('sdoaia094')\n",
    "if ('goft_table_aia131' in aiafilter): cmap=plt.get_cmap('sdoaia131')\n",
    "if ('goft_table_aia171' in aiafilter): cmap=plt.get_cmap('sdoaia171')\n",
    "if ('goft_table_aia193' in aiafilter): cmap=plt.get_cmap('sdoaia193')\n",
    "if ('goft_table_aia211' in aiafilter): cmap=plt.get_cmap('sdoaia211')\n",
    "if ('goft_table_aia304' in aiafilter): cmap=plt.get_cmap('sdoaia304')\n",
    "if ('goft_table_aia335' in aiafilter): cmap=plt.get_cmap('sdoaia335')\n",
    "#if ('goft_table_aia171' in aiafilter): cmap=plt.get_cmap('hot')\n",
    "#Estos valores de normalización son los necesarios para que la corona brille hasta una altura similar al filtro correspondiente\n",
    "if ('goft_table_aia094' in aiafilter): norm=colors.LogNorm(1.5, 50)\n",
    "if ('goft_table_aia131' in aiafilter): norm=colors.LogNorm(7, 1200)\n",
    "#if ('goft_table_aia171' in aiafilter): norm=colors.LogNorm(10000, 1000000)#ImageNormalize(vmin=60000, vmax=1000000, stretch=SqrtStretch())\n",
    "if ('goft_table_aia171' in aiafilter): norm=ImageNormalize(vmin=1, vmax=6000, stretch=SqrtStretch())\n",
    "if ('goft_table_aia193' in aiafilter): norm=colors.LogNorm(1, 6000)\n",
    "if ('goft_table_aia211' in aiafilter): norm=colors.LogNorm(1, 13000)\n",
    "if ('goft_table_aia304' in aiafilter): norm=colors.LogNorm(0.5, 100)\n",
    "if ('goft_table_aia335' in aiafilter): norm=colors.LogNorm(3.5, 1000)"
   ]
  },
  {
   "cell_type": "code",
   "execution_count": 7,
   "id": "51afcc3b",
   "metadata": {},
   "outputs": [
    {
     "name": "stdout",
     "output_type": "stream",
     "text": [
      "130.18933139282123\n"
     ]
    }
   ],
   "source": [
    "print(np.mean(allemiss))"
   ]
  },
  {
   "cell_type": "code",
   "execution_count": 10,
   "id": "c916f5fd",
   "metadata": {},
   "outputs": [
    {
     "data": {
      "image/png": "[encoded data removed]",
      "text/plain": [
       "<Figure size 432x288 with 2 Axes>"
      ]
     },
     "metadata": {
      "needs_background": "light"
     },
     "output_type": "display_data"
    }
   ],
   "source": [
    "percent_emiss=99\n",
    "fig, ax = plt.subplots()\n",
    "im = ax.imshow(allemiss,cmap=cmap,aspect='auto',vmax=np.percentile(allemiss,percent_emiss),vmin=np.amin(allemiss),origin=\"lower\")\n",
    "#im = ax.imshow(allemiss[:,0:699,19],extent=(np.amin(xvec),np.amax(xvec),np.amin(yvec),np.amax(yvec)),cmap=cmap,aspect='auto',vmax=np.percentile(allemiss,percent_emiss),vmin=np.amin(allemiss),origin=\"lower\")\n",
    "#im = ax.imshow(allemiss[:,0:699,6],extent=(np.amin(xvec),np.amax(xvec),np.amin(yvec),np.amax(yvec)),cmap=cmap,aspect='auto',norm=norm,origin=\"lower\")\n",
    "#annotation=ax.annotate(format(0,'04d'),(.93,.97),textcoords='axes fraction',color='white')\n",
    "plt.title('integrated intensity')\n",
    "cb=plt.colorbar(im)\n",
    "cb.set_label('DN/s')\n",
    "\n",
    "plt.tight_layout()\n",
    "plt.show()"
   ]
  },
  {
   "cell_type": "code",
   "execution_count": 30,
   "id": "cc8d0551",
   "metadata": {},
   "outputs": [
    {
     "name": "stdout",
     "output_type": "stream",
     "text": [
      "Reading file /home/cecere/programas/fomo/fomo-c/example/example_loops/desequilibrio_5-171-t0001.txt\n",
      "Reading file /home/cecere/programas/fomo/fomo-c/example/example_loops/desequilibrio_5-171-t0002.txt\n",
      "Reading file /home/cecere/programas/fomo/fomo-c/example/example_loops/desequilibrio_5-171-t0003.txt\n",
      "Reading file /home/cecere/programas/fomo/fomo-c/example/example_loops/desequilibrio_5-171-t0004.txt\n",
      "Reading file /home/cecere/programas/fomo/fomo-c/example/example_loops/desequilibrio_5-171-t0005.txt\n",
      "Reading file /home/cecere/programas/fomo/fomo-c/example/example_loops/desequilibrio_5-171-t0006.txt\n",
      "Reading file /home/cecere/programas/fomo/fomo-c/example/example_loops/desequilibrio_5-171-t0007.txt\n",
      "Reading file /home/cecere/programas/fomo/fomo-c/example/example_loops/desequilibrio_5-171-t0008.txt\n",
      "Reading file /home/cecere/programas/fomo/fomo-c/example/example_loops/desequilibrio_5-171-t0009.txt\n",
      "Reading file /home/cecere/programas/fomo/fomo-c/example/example_loops/desequilibrio_5-171-t0010.txt\n",
      "Reading file /home/cecere/programas/fomo/fomo-c/example/example_loops/desequilibrio_5-171-t0011.txt\n",
      "Reading file /home/cecere/programas/fomo/fomo-c/example/example_loops/desequilibrio_5-171-t0012.txt\n",
      "Reading file /home/cecere/programas/fomo/fomo-c/example/example_loops/desequilibrio_5-171-t0013.txt\n",
      "Reading file /home/cecere/programas/fomo/fomo-c/example/example_loops/desequilibrio_5-171-t0014.txt\n",
      "Reading file /home/cecere/programas/fomo/fomo-c/example/example_loops/desequilibrio_5-171-t0015.txt\n",
      "Reading file /home/cecere/programas/fomo/fomo-c/example/example_loops/desequilibrio_5-171-t0016.txt\n",
      "Reading file /home/cecere/programas/fomo/fomo-c/example/example_loops/desequilibrio_5-171-t0017.txt\n",
      "Reading file /home/cecere/programas/fomo/fomo-c/example/example_loops/desequilibrio_5-171-t0018.txt\n",
      "Reading file /home/cecere/programas/fomo/fomo-c/example/example_loops/desequilibrio_5-171-t0019.txt\n"
     ]
    },
    {
     "name": "stderr",
     "output_type": "stream",
     "text": [
      "/tmp/ipykernel_14993/1286428572.py:10: UserWarning: You have used the `textcoords` kwarg, but not the `xytext` kwarg.  This can lead to surprising results.\n",
      "  annotation=ax.annotate(format(0,'04d'),(.93,.97),textcoords='axes fraction',color='white')\n",
      "/tmp/ipykernel_14993/1286428572.py:12: MatplotlibDeprecationWarning: Starting from Matplotlib 3.6, colorbar() will steal space from the mappable's axes, rather than from the current axes, to place the colorbar.  To silence this warning, explicitly pass the 'ax' argument to colorbar().\n",
      "  cb=plt.colorbar(im)\n"
     ]
    },
    {
     "data": {
      "image/png": "[encoded data removed]",
      "text/plain": [
       "<Figure size 432x288 with 2 Axes>"
      ]
     },
     "metadata": {
      "needs_background": "light"
     },
     "output_type": "display_data"
    }
   ],
   "source": [
    "if len(filelist)>1:\n",
    "    for filename in filelist[1:]:\n",
    "        print('Reading file',filename)\n",
    "        data=readgoftcube(filename)\n",
    "        emiss,xvec,yvec,lvec=regulargoftcube(data)\n",
    "        allemiss=np.dstack((allemiss,emiss))\n",
    "        #print(allemiss.shape)\n",
    "    im = ax.imshow(allemiss[:,::-1,0],extent=(np.amax(xvec),np.amin(xvec),np.amin(yvec),np.amax(yvec)),cmap=cmap,aspect='auto',origin='lower')\n",
    "   # im = ax.imshow(allemiss[:,:,0],extent=(np.amin(xvec),np.amax(xvec),np.amin(yvec),np.amax(yvec)),cmap=cmap,aspect='auto',vmax=np.percentile(allemiss,percent_emiss),vmin=np.amin(allemiss),origin='lower')\n",
    "    annotation=ax.annotate(format(0,'04d'),(.93,.97),textcoords='axes fraction',color='white')\n",
    "    plt.title('integrated intensity')\n",
    "    cb=plt.colorbar(im)\n",
    "    cb.set_label('DN/s')\n",
    "\n",
    "    plt.tight_layout()\n",
    "    \n",
    "    def init():\n",
    "        return im,annotation\n",
    "\n",
    "    def update_img(filename):\n",
    "        im.set_data(allemiss[:,::-1,filename])\n",
    "        annotation.set_text(format(filename,'04d'))\n",
    "        return im,annotation\n",
    "\n",
    "    # animate the frames\n",
    "    dpi=300\n",
    "    ani = animation.FuncAnimation(fig,update_img,frames=len(filelist),interval=30,blit=False,init_func=init)\n",
    "    writer = animation.writers['ffmpeg'](fps=5)\n",
    "    ani.save('desequilibrio_5_171.mp4',writer=writer,dpi=dpi)\n",
    "\n",
    "else:\n",
    "    #im = ax.imshow(allemiss[:,:],extent=(np.amin(xvec),np.amax(xvec),np.amin(yvec),np.amax(yvec)),origin='lower',cmap=cmap,aspect='auto',norm=colors.LogNorm(0.1, np.percentile(allemiss,percent_emiss))\n",
    "    im = ax.imshow(allemiss[:,::-1],extent=(np.amax(xvec),np.amin(xvec),np.amin(yvec),np.amax(yvec)),cmap=cmap,aspect='auto',norm=norm,origin='lower')\n",
    "    annotation=ax.annotate(format(0,'04d'),(.93,.97),textcoords='axes fraction', fontsize='xx-large', color='white')\n",
    "    #plt.title('integrated intensity')\n",
    "    cb=plt.colorbar(im)\n",
    "    cb.set_label('DN/s')\n",
    "    #plt.savefig('CHObs-304.svg',dpi=300)\n",
    "    plt.tight_layout()\n",
    "    pylt.show()  #############\n"
   ]
  },
  {
   "cell_type": "code",
   "execution_count": 15,
   "id": "7ca42fd5",
   "metadata": {},
   "outputs": [],
   "source": [
    "delta = 0.025\n",
    "x = y = np.arange(-3.0, 3.0, delta)\n",
    "X, Y = np.meshgrid(x, y)\n",
    "Z1 = np.exp(-X**2 - Y**2)\n",
    "Z2 = np.exp(-(X - 1)**2 - (Y - 1)**2)\n",
    "Z = (Z1 - Z2) * 2"
   ]
  },
  {
   "cell_type": "code",
   "execution_count": 69,
   "id": "1da7f52f",
   "metadata": {},
   "outputs": [
    {
     "name": "stdout",
     "output_type": "stream",
     "text": [
      "2\n",
      "(240, 240)\n"
     ]
    }
   ],
   "source": [
    "print(Z.ndim)\n",
    "print(Z.shape)"
   ]
  },
  {
   "cell_type": "code",
   "execution_count": 72,
   "id": "a796741f",
   "metadata": {},
   "outputs": [
    {
     "data": {
      "image/png": "[encoded data removed]",
      "text/plain": [
       "<Figure size 432x288 with 1 Axes>"
      ]
     },
     "metadata": {
      "needs_background": "light"
     },
     "output_type": "display_data"
    }
   ],
   "source": [
    "fig, ax = plt.subplots()\n",
    "im = ax.imshow(Z, interpolation='bilinear', cmap=cm.RdYlGn,\n",
    "               origin='lower', extent=[-3, 3, -3, 3],\n",
    "               vmax=abs(Z).max(), vmin=-abs(Z).max())\n"
   ]
  },
  {
   "cell_type": "code",
   "execution_count": 73,
   "id": "39f57fdc",
   "metadata": {},
   "outputs": [],
   "source": [
    "plt.show()"
   ]
  },
  {
   "cell_type": "code",
   "execution_count": null,
   "id": "3a4dc6c9",
   "metadata": {},
   "outputs": [],
   "source": []
  }
 ],
 "metadata": {
  "kernelspec": {
   "display_name": "Python 3 (ipykernel)",
   "language": "python",
   "name": "python3"
  },
  "language_info": {
   "codemirror_mode": {
    "name": "ipython",
    "version": 3
   },
   "file_extension": ".py",
   "mimetype": "text/x-python",
   "name": "python",
   "nbconvert_exporter": "python",
   "pygments_lexer": "ipython3",
   "version": "3.10.2"
  }
 },
 "nbformat": 4,
 "nbformat_minor": 5
}
