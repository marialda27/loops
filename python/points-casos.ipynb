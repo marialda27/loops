{
 "cells": [
  {
   "cell_type": "code",
   "execution_count": 1,
   "id": "244bdb3b",
   "metadata": {},
   "outputs": [],
   "source": [
    "import matplotlib.animation as animation\n",
    "import matplotlib.pyplot as pylt\n",
    "import numpy as np\n",
    "import pylab as plt\n",
    "import matplotlib.cm as matcm\n",
    "import matplotlib.colors as colors\n",
    "import sys\n",
    "import os\n",
    "sys.path.append('/home/cecere/Documentos/python_fomo')\n",
    "from readfomo import readgoftcube, readgoftcubechianti, regulargoftcube, gaussfitgoftcube\n",
    "import glob\n",
    "import sunpy.visualization.colormaps as cm\n",
    "import sunpy\n",
    "from astropy.visualization import SqrtStretch, ImageNormalize"
   ]
  },
  {
   "cell_type": "code",
   "execution_count": 2,
   "id": "87a3d97c",
   "metadata": {},
   "outputs": [],
   "source": [
    "# store filenames as a sorted list\n",
    "#unsorted=glob.glob('../example/example_FLASH/Afomo-hdf5-outputb.txt')\n",
    "# Para uno\n",
    "#unsorted=glob.glob('/home/cecere/programas/fomo/fomo-c/example/example_loops/desequilibrio_5-131-t0019.txt')\n",
    "# Para varios\n",
    "unsorted1=glob.glob('/home/cecere/programas/fomo/fomo-c/example/example_loops/des3/desequilibrio_3-094-t*.txt')\n",
    "unsorted2=glob.glob('/home/cecere/programas/fomo/fomo-c/example/example_loops/des4/desequilibrio_4-094-t*.txt')\n",
    "unsorted3=glob.glob('/home/cecere/programas/fomo/fomo-c/example/example_loops/des5/desequilibrio_5-094-t*.txt')\n",
    "#print(unsorted)\n",
    "filelist1=sorted(unsorted1)\n",
    "filelist2=sorted(unsorted2)\n",
    "filelist3=sorted(unsorted3)\n",
    "#print(filelist)"
   ]
  },
  {
   "cell_type": "code",
   "execution_count": 3,
   "id": "853c90cf",
   "metadata": {},
   "outputs": [
    {
     "name": "stdout",
     "output_type": "stream",
     "text": [
      "Reading file /home/cecere/programas/fomo/fomo-c/example/example_loops/des3/desequilibrio_3-094-t0000.txt\n",
      "xvec (350,)\n",
      "yvec (350,)\n"
     ]
    }
   ],
   "source": [
    "# create data cube from file list\n",
    "print('Reading file',filelist1[0])\n",
    "data1,chiantifile=readgoftcubechianti(filelist1[0])\n",
    "emiss1,xvec,yvec,lvec=regulargoftcube(data1)\n",
    "data2,chiantifile=readgoftcubechianti(filelist2[0])\n",
    "emiss2,xvec,yvec,lvec=regulargoftcube(data2)\n",
    "data3,chiantifile=readgoftcubechianti(filelist3[0])\n",
    "emiss3,xvec,yvec,lvec=regulargoftcube(data3)\n",
    "print('xvec',xvec.shape)\n",
    "print('yvec',yvec.shape)\n",
    "#print(yvec)\n",
    "#print('data.shape',data.shape)\n",
    "#print('data',data)\n",
    "#print('emiss',emiss)"
   ]
  },
  {
   "cell_type": "markdown",
   "id": "1e7dd53d",
   "metadata": {},
   "source": [
    "Emiss esta escrito asi (yind de arriba a abajo,xind de izquierda a derecha)"
   ]
  },
  {
   "cell_type": "code",
   "execution_count": 4,
   "id": "b9d73712",
   "metadata": {},
   "outputs": [
    {
     "name": "stdout",
     "output_type": "stream",
     "text": [
      "1.2026972081632652\n"
     ]
    }
   ],
   "source": [
    "print(np.mean(emiss1))"
   ]
  },
  {
   "cell_type": "code",
   "execution_count": 5,
   "id": "179ba232",
   "metadata": {},
   "outputs": [
    {
     "name": "stdout",
     "output_type": "stream",
     "text": [
      "goft_table_aia094_abco.dat\n",
      "\n"
     ]
    }
   ],
   "source": [
    "# set colour map\n",
    "cmap=matcm.hot\n",
    "aiafilter=os.path.basename(chiantifile)\n",
    "print(aiafilter)\n",
    "if ('goft_table_aia094' in aiafilter): cmap=plt.get_cmap('sdoaia94')\n",
    "if ('goft_table_aia131' in aiafilter): cmap=plt.get_cmap('sdoaia131')\n",
    "if ('goft_table_aia171' in aiafilter): cmap=plt.get_cmap('sdoaia171')\n",
    "if ('goft_table_aia193' in aiafilter): cmap=plt.get_cmap('sdoaia193')\n",
    "if ('goft_table_aia211' in aiafilter): cmap=plt.get_cmap('sdoaia211')\n",
    "if ('goft_table_aia304' in aiafilter): cmap=plt.get_cmap('sdoaia304')\n",
    "if ('goft_table_aia335' in aiafilter): cmap=plt.get_cmap('sdoaia335')\n",
    "#if ('goft_table_aia171' in aiafilter): cmap=plt.get_cmap('hot')\n",
    "#Estos valores de normalización son los necesarios para que la corona brille hasta una altura similar al filtro correspondiente\n",
    "if ('goft_table_aia094' in aiafilter): norm=colors.LogNorm(1.5, 50)\n",
    "if ('goft_table_aia131' in aiafilter): norm=colors.LogNorm(7, 1200)\n",
    "#if ('goft_table_aia171' in aiafilter): norm=colors.LogNorm(10000, 1000000)#ImageNormalize(vmin=60000, vmax=1000000, stretch=SqrtStretch())\n",
    "if ('goft_table_aia171' in aiafilter): norm=ImageNormalize(vmin=1, vmax=6000, stretch=SqrtStretch())\n",
    "if ('goft_table_aia193' in aiafilter): norm=colors.LogNorm(1, 6000)\n",
    "if ('goft_table_aia211' in aiafilter): norm=colors.LogNorm(1, 13000)\n",
    "if ('goft_table_aia304' in aiafilter): norm=colors.LogNorm(0.5, 100)\n",
    "if ('goft_table_aia335' in aiafilter): norm=colors.LogNorm(3.5, 1000)"
   ]
  },
  {
   "cell_type": "code",
   "execution_count": 6,
   "id": "badf711a",
   "metadata": {},
   "outputs": [
    {
     "data": {
      "image/png": "[encoded data removed]",
      "text/plain": [
       "<Figure size 432x288 with 2 Axes>"
      ]
     },
     "metadata": {
      "needs_background": "light"
     },
     "output_type": "display_data"
    }
   ],
   "source": [
    "percent_emiss=99\n",
    "fig, ax = plt.subplots()\n",
    "im = ax.imshow(emiss3,cmap=cmap,aspect='auto',vmax=np.percentile(emiss3,percent_emiss),vmin=np.amin(emiss3))\n",
    "plt.title('integrated intensity')\n",
    "cb=plt.colorbar(im)\n",
    "cb.set_label('DN/s')\n",
    "\n",
    "plt.tight_layout()\n",
    "plt.show()"
   ]
  },
  {
   "cell_type": "code",
   "execution_count": 7,
   "id": "8662deed",
   "metadata": {},
   "outputs": [
    {
     "name": "stdout",
     "output_type": "stream",
     "text": [
      "0.0\n"
     ]
    }
   ],
   "source": [
    "yind = 150\n",
    "xind = 20\n",
    "print(emiss3[yind,xind])"
   ]
  },
  {
   "cell_type": "code",
   "execution_count": 8,
   "id": "b6b68375",
   "metadata": {
    "scrolled": true
   },
   "outputs": [
    {
     "name": "stdout",
     "output_type": "stream",
     "text": [
      "xind 20\n",
      "yind 150\n",
      "0.0\n"
     ]
    }
   ],
   "source": [
    "L0 = 35 #Mm\n",
    "#print(xvec.size)\n",
    "#print(xvec)\n",
    "#print(xvec/np.amax(xvec)*L0)\n",
    "xvecdim = xvec/np.amax(xvec)*L0\n",
    "yvecdim = yvec/np.amax(yvec)*L0\n",
    "#print(xvecdim[0:20])\n",
    "#print(yvecdim)\n",
    "xpoint = 2  #in Mm\n",
    "ypoint = L0 - 20 #in Mm\n",
    "xind = int(xpoint/L0*xvec.size)\n",
    "yind = int(ypoint/L0*yvec.size)\n",
    "print('xind',xind)\n",
    "print('yind',yind)\n",
    "print(emiss3[yind,xind])"
   ]
  },
  {
   "cell_type": "code",
   "execution_count": 9,
   "id": "a040b686",
   "metadata": {},
   "outputs": [
    {
     "name": "stdout",
     "output_type": "stream",
     "text": [
      "newy [19.9284686]\n",
      "newx [2.05293278]\n"
     ]
    }
   ],
   "source": [
    "#posición en Mm del punto en \"x\" y en \"y\"\n",
    "newy=L0 - yvecdim[yind:yind+1]\n",
    "newx=xvecdim[xind:xind+1]\n",
    "print('newy',newy)\n",
    "print('newx',newx)"
   ]
  },
  {
   "cell_type": "code",
   "execution_count": 10,
   "id": "5756a678",
   "metadata": {},
   "outputs": [
    {
     "name": "stdout",
     "output_type": "stream",
     "text": [
      "(1, 1)\n"
     ]
    }
   ],
   "source": [
    "newemiss1=emiss1[yind:yind+1,xind:xind+1]\n",
    "allemiss1=newemiss1\n",
    "newemiss2=emiss2[yind:yind+1,xind:xind+1]\n",
    "allemiss2=newemiss2\n",
    "newemiss3=emiss3[yind:yind+1,xind:xind+1]\n",
    "allemiss3=newemiss3\n",
    "#print(allemiss)\n",
    "print(allemiss1.shape)"
   ]
  },
  {
   "cell_type": "code",
   "execution_count": 11,
   "id": "e7f8dbe3",
   "metadata": {},
   "outputs": [
    {
     "ename": "IndexError",
     "evalue": "index 39 is out of bounds for axis 0 with size 39",
     "output_type": "error",
     "traceback": [
      "\u001b[0;31m---------------------------------------------------------------------------\u001b[0m",
      "\u001b[0;31mIndexError\u001b[0m                                Traceback (most recent call last)",
      "Input \u001b[0;32mIn [11]\u001b[0m, in \u001b[0;36m<module>\u001b[0;34m\u001b[0m\n\u001b[1;32m      1\u001b[0m \u001b[38;5;28;01mfor\u001b[39;00m filename \u001b[38;5;129;01min\u001b[39;00m filelist1[\u001b[38;5;241m1\u001b[39m:]:\n\u001b[1;32m      2\u001b[0m     \u001b[38;5;66;03m#print('Reading file',filename)\u001b[39;00m\n\u001b[1;32m      3\u001b[0m     data1\u001b[38;5;241m=\u001b[39mreadgoftcube(filename)\n\u001b[0;32m----> 4\u001b[0m     emiss1,xvec,yvec,lvec\u001b[38;5;241m=\u001b[39m\u001b[43mregulargoftcube\u001b[49m\u001b[43m(\u001b[49m\u001b[43mdata1\u001b[49m\u001b[43m)\u001b[49m\n\u001b[1;32m      5\u001b[0m     \u001b[38;5;66;03m#tomo un ancho en y para que quede mejor el gráfico\u001b[39;00m\n\u001b[1;32m      6\u001b[0m     newemiss1\u001b[38;5;241m=\u001b[39memiss1[yind:yind\u001b[38;5;241m+\u001b[39m\u001b[38;5;241m1\u001b[39m,xind:xind\u001b[38;5;241m+\u001b[39m\u001b[38;5;241m1\u001b[39m]\n",
      "File \u001b[0;32m~/Documentos/python_fomo/readfomo.py:122\u001b[0m, in \u001b[0;36mregulargoftcube\u001b[0;34m(data)\u001b[0m\n\u001b[1;32m    120\u001b[0m l\u001b[38;5;241m=\u001b[39mi\u001b[38;5;241m%\u001b[39mnl\n\u001b[1;32m    121\u001b[0m xvec[j]\u001b[38;5;241m=\u001b[39mdata[i,\u001b[38;5;241m0\u001b[39m]\n\u001b[0;32m--> 122\u001b[0m yvec[k]\u001b[38;5;241m=\u001b[39mdata[i,\u001b[38;5;241m1\u001b[39m]\n\u001b[1;32m    124\u001b[0m \u001b[38;5;28;01mif\u001b[39;00m (dim \u001b[38;5;241m==\u001b[39m \u001b[38;5;241m3\u001b[39m):\n\u001b[1;32m    125\u001b[0m     lvec[l]\u001b[38;5;241m=\u001b[39mdata[i,\u001b[38;5;241m2\u001b[39m]\n",
      "\u001b[0;31mIndexError\u001b[0m: index 39 is out of bounds for axis 0 with size 39"
     ]
    }
   ],
   "source": [
    "for filename in filelist1[1:]:\n",
    "    #print('Reading file',filename)\n",
    "    data1=readgoftcube(filename)\n",
    "    emiss1,xvec,yvec,lvec=regulargoftcube(data1)\n",
    "    #tomo un ancho en y para que quede mejor el gráfico\n",
    "    newemiss1=emiss1[yind:yind+1,xind:xind+1]\n",
    "    #print(newemiss)\n",
    "    #construyo una nueva matriz, suma de los cortes en cada tiempo\n",
    "    allemiss1=np.concatenate((allemiss1,newemiss1), axis=0)\n",
    "    #print(allemiss.shape)\n"
   ]
  },
  {
   "cell_type": "code",
   "execution_count": null,
   "id": "00630741",
   "metadata": {},
   "outputs": [],
   "source": [
    "for filename in filelist2[1:]:\n",
    "    #print('Reading file',filename)\n",
    "    data2=readgoftcube(filename)\n",
    "    emiss2,xvec,yvec,lvec=regulargoftcube(data2)\n",
    "    #tomo un ancho en y para que quede mejor el gráfico\n",
    "    newemiss2=emiss2[yind:yind+1,xind:xind+1]\n",
    "    #print(newemiss)\n",
    "    #construyo una nueva matriz, suma de los cortes en cada tiempo\n",
    "    allemiss2=np.concatenate((allemiss2,newemiss2), axis=0)\n",
    "    #print(allemiss.shape)"
   ]
  },
  {
   "cell_type": "code",
   "execution_count": null,
   "id": "649cf8ae",
   "metadata": {},
   "outputs": [],
   "source": [
    "for filename in filelist3[1:]:\n",
    "    #print('Reading file',filename)\n",
    "    data3=readgoftcube(filename)\n",
    "    emiss3,xvec,yvec,lvec=regulargoftcube(data3)\n",
    "    #tomo un ancho en y para que quede mejor el gráfico\n",
    "    newemiss3=emiss3[yind:yind+1,xind:xind+1]\n",
    "    #print(newemiss)\n",
    "    #construyo una nueva matriz, suma de los cortes en cada tiempo\n",
    "    allemiss3=np.concatenate((allemiss3,newemiss3), axis=0)\n",
    "    #print(allemiss.shape)"
   ]
  },
  {
   "cell_type": "code",
   "execution_count": null,
   "id": "10bcf526",
   "metadata": {},
   "outputs": [],
   "source": [
    "print(allemiss1.shape)\n",
    "print(allemiss2.shape)\n",
    "print(allemiss3.shape)"
   ]
  },
  {
   "cell_type": "code",
   "execution_count": null,
   "id": "54cdfe0a",
   "metadata": {},
   "outputs": [],
   "source": [
    "tdim=np.linspace(0.,allemiss1.shape[0]*0.5,num=allemiss1.shape[0])\n",
    "print(allemiss1.shape[0])\n",
    "#print(tdim)\n",
    "print(np.min(tdim),np.max(tdim))"
   ]
  },
  {
   "cell_type": "code",
   "execution_count": null,
   "id": "561f8d4a",
   "metadata": {},
   "outputs": [],
   "source": []
  },
  {
   "cell_type": "code",
   "execution_count": null,
   "id": "d57f9f18",
   "metadata": {},
   "outputs": [],
   "source": [
    "# set colour map\n",
    "cmap=matcm.hot\n",
    "aiafilter=os.path.basename(chiantifile)\n",
    "if ('goft_table_aia094' in aiafilter): cmap=plt.get_cmap('sdoaia94')\n",
    "if ('goft_table_aia131' in aiafilter): cmap=plt.get_cmap('sdoaia131')\n",
    "if ('goft_table_aia171' in aiafilter): cmap=plt.get_cmap('sdoaia171')\n",
    "if ('goft_table_aia193' in aiafilter): cmap=plt.get_cmap('sdoaia193')\n",
    "if ('goft_table_aia211' in aiafilter): cmap=plt.get_cmap('sdoaia211')\n",
    "if ('goft_table_aia304' in aiafilter): cmap=plt.get_cmap('sdoaia304')\n",
    "if ('goft_table_aia335' in aiafilter): cmap=plt.get_cmap('sdoaia335')\n",
    "#Estos valores de normalización son los necesarios para que la corona brille hasta una altura similar al filtro correspondiente\n",
    "if ('goft_table_aia094' in aiafilter): norm=colors.LogNorm(1.5, 50)\n",
    "if ('goft_table_aia131' in aiafilter): norm=colors.LogNorm(7, 1200)\n",
    "if ('goft_table_aia171' in aiafilter): norm=ImageNormalize(vmin=60000, vmax=1000000, stretch=SqrtStretch())\n",
    "#if ('goft_table_aia171' in aiafilter): norm=ImageNormalize(vmin=10, vmax=6000, stretch=SqrtStretch())\n",
    "if ('goft_table_aia193' in aiafilter): norm=colors.LogNorm(1, 6000)\n",
    "if ('goft_table_aia211' in aiafilter): norm=colors.LogNorm(1, 13000)\n",
    "if ('goft_table_aia304' in aiafilter): norm=colors.LogNorm(1, 600)\n",
    "if ('goft_table_aia335' in aiafilter): norm=colors.LogNorm(3.5, 1000)"
   ]
  },
  {
   "cell_type": "code",
   "execution_count": null,
   "id": "ee9de4ac",
   "metadata": {},
   "outputs": [],
   "source": [
    "print(np.max(allemiss1),np.max(allemiss2),np.max(allemiss3))"
   ]
  },
  {
   "cell_type": "code",
   "execution_count": null,
   "id": "66951044",
   "metadata": {},
   "outputs": [],
   "source": [
    "pltemiss1, = plt.plot(tdim[0:999],allemiss1[0:999],label='Des3')\n",
    "pltemiss2, = plt.plot(tdim[0:999],allemiss2[0:999],label='Des4')\n",
    "pltemiss3, = plt.plot(tdim[0:999],allemiss3[0:999],label='Des5')\n",
    "plt.legend(handles=[pltemiss1,pltemiss2,pltemiss3])\n",
    "#plt.legend(handles=[pdens])\n",
    "#plt.legend(handles=[pdens,pmagy])\n",
    "plt.tick_params( labelsize=17)\n",
    "plt.xlim(np.min(tdim),np.max(tdim))\n",
    "#plt.ylim(emin, emax)\n",
    "plt.title('Emission evolution',fontsize=17)\n",
    "plt.ylabel( '94',fontsize=17)\n",
    "plt.xlabel('t [s]',fontsize=17)\n",
    "#plt.yscale('log')\n",
    "#plt.savefig(path+simulacion +'/'+pos+'_energia.pdf', bbox_inches='tight')\n"
   ]
  },
  {
   "cell_type": "code",
   "execution_count": null,
   "id": "7ec88098",
   "metadata": {},
   "outputs": [],
   "source": []
  }
 ],
 "metadata": {
  "kernelspec": {
   "display_name": "Python 3 (ipykernel)",
   "language": "python",
   "name": "python3"
  },
  "language_info": {
   "codemirror_mode": {
    "name": "ipython",
    "version": 3
   },
   "file_extension": ".py",
   "mimetype": "text/x-python",
   "name": "python",
   "nbconvert_exporter": "python",
   "pygments_lexer": "ipython3",
   "version": "3.10.4"
  }
 },
 "nbformat": 4,
 "nbformat_minor": 5
}
