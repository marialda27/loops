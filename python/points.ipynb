{
 "cells": [
  {
   "cell_type": "code",
   "execution_count": 1,
   "id": "244bdb3b",
   "metadata": {},
   "outputs": [],
   "source": [
    "import matplotlib.animation as animation\n",
    "import matplotlib.pyplot as pylt\n",
    "import numpy as np\n",
    "import pylab as plt\n",
    "import matplotlib.cm as matcm\n",
    "import matplotlib.colors as colors\n",
    "import sys\n",
    "import os\n",
    "sys.path.append('/home/cecere/Documentos/python_fomo')\n",
    "from readfomo import readgoftcube, readgoftcubechianti, regulargoftcube, gaussfitgoftcube\n",
    "import glob\n",
    "import sunpy.visualization.colormaps as cm\n",
    "import sunpy\n",
    "from astropy.visualization import SqrtStretch, ImageNormalize"
   ]
  },
  {
   "cell_type": "code",
   "execution_count": 2,
   "id": "87a3d97c",
   "metadata": {},
   "outputs": [],
   "source": [
    "# store filenames as a sorted list\n",
    "#unsorted=glob.glob('../example/example_FLASH/Afomo-hdf5-outputb.txt')\n",
    "# Para uno\n",
    "#unsorted=glob.glob('/home/cecere/programas/fomo/fomo-c/example/example_loops/desequilibrio_5-131-t0019.txt')\n",
    "# Para varios\n",
    "unsorted=glob.glob('/home/cecere/programas/fomo/fomo-c/example/example_loops/des5/desequilibrio_5-131-t*.txt')\n",
    "#print(unsorted)\n",
    "filelist=sorted(unsorted)\n",
    "#print(filelist)"
   ]
  },
  {
   "cell_type": "code",
   "execution_count": 3,
   "id": "853c90cf",
   "metadata": {},
   "outputs": [
    {
     "name": "stdout",
     "output_type": "stream",
     "text": [
      "Reading file /home/cecere/programas/fomo/fomo-c/example/example_loops/des5/desequilibrio_5-131-t0000.txt\n",
      "xvec (350,)\n",
      "yvec (350,)\n"
     ]
    }
   ],
   "source": [
    "# create data cube from file list\n",
    "print('Reading file',filelist[0])\n",
    "data,chiantifile=readgoftcubechianti(filelist[0])\n",
    "emiss,xvec,yvec,lvec=regulargoftcube(data)\n",
    "print('xvec',xvec.shape)\n",
    "print('yvec',yvec.shape)\n",
    "#print(yvec)\n",
    "#print('data.shape',data.shape)\n",
    "#print('data',data)\n",
    "#print('emiss',emiss)"
   ]
  },
  {
   "cell_type": "markdown",
   "id": "1e7dd53d",
   "metadata": {},
   "source": [
    "Emiss esta escrito asi (yind de arriba a abajo,xind de izquierda a derecha)"
   ]
  },
  {
   "cell_type": "code",
   "execution_count": 4,
   "id": "b9d73712",
   "metadata": {},
   "outputs": [
    {
     "name": "stdout",
     "output_type": "stream",
     "text": [
      "10.770555428571429\n"
     ]
    }
   ],
   "source": [
    "print(np.mean(emiss))"
   ]
  },
  {
   "cell_type": "code",
   "execution_count": 5,
   "id": "179ba232",
   "metadata": {},
   "outputs": [
    {
     "name": "stdout",
     "output_type": "stream",
     "text": [
      "goft_table_aia131_abco.dat\n",
      "\n"
     ]
    }
   ],
   "source": [
    "# set colour map\n",
    "cmap=matcm.hot\n",
    "aiafilter=os.path.basename(chiantifile)\n",
    "print(aiafilter)\n",
    "if ('goft_table_aia094' in aiafilter): cmap=plt.get_cmap('sdoaia094')\n",
    "if ('goft_table_aia131' in aiafilter): cmap=plt.get_cmap('sdoaia131')\n",
    "if ('goft_table_aia171' in aiafilter): cmap=plt.get_cmap('sdoaia171')\n",
    "if ('goft_table_aia193' in aiafilter): cmap=plt.get_cmap('sdoaia193')\n",
    "if ('goft_table_aia211' in aiafilter): cmap=plt.get_cmap('sdoaia211')\n",
    "if ('goft_table_aia304' in aiafilter): cmap=plt.get_cmap('sdoaia304')\n",
    "if ('goft_table_aia335' in aiafilter): cmap=plt.get_cmap('sdoaia335')\n",
    "#if ('goft_table_aia171' in aiafilter): cmap=plt.get_cmap('hot')\n",
    "#Estos valores de normalización son los necesarios para que la corona brille hasta una altura similar al filtro correspondiente\n",
    "if ('goft_table_aia094' in aiafilter): norm=colors.LogNorm(1.5, 50)\n",
    "if ('goft_table_aia131' in aiafilter): norm=colors.LogNorm(7, 1200)\n",
    "#if ('goft_table_aia171' in aiafilter): norm=colors.LogNorm(10000, 1000000)#ImageNormalize(vmin=60000, vmax=1000000, stretch=SqrtStretch())\n",
    "if ('goft_table_aia171' in aiafilter): norm=ImageNormalize(vmin=1, vmax=6000, stretch=SqrtStretch())\n",
    "if ('goft_table_aia193' in aiafilter): norm=colors.LogNorm(1, 6000)\n",
    "if ('goft_table_aia211' in aiafilter): norm=colors.LogNorm(1, 13000)\n",
    "if ('goft_table_aia304' in aiafilter): norm=colors.LogNorm(0.5, 100)\n",
    "if ('goft_table_aia335' in aiafilter): norm=colors.LogNorm(3.5, 1000)"
   ]
  },
  {
   "cell_type": "code",
   "execution_count": 6,
   "id": "badf711a",
   "metadata": {},
   "outputs": [
    {
     "data": {
      "image/png": "[encoded data removed]",
      "text/plain": [
       "<Figure size 432x288 with 2 Axes>"
      ]
     },
     "metadata": {
      "needs_background": "light"
     },
     "output_type": "display_data"
    }
   ],
   "source": [
    "percent_emiss=99\n",
    "fig, ax = plt.subplots()\n",
    "im = ax.imshow(emiss,cmap=cmap,aspect='auto',vmax=np.percentile(emiss,percent_emiss),vmin=np.amin(emiss))\n",
    "plt.title('integrated intensity')\n",
    "cb=plt.colorbar(im)\n",
    "cb.set_label('DN/s')\n",
    "\n",
    "plt.tight_layout()\n",
    "plt.show()"
   ]
  },
  {
   "cell_type": "code",
   "execution_count": 39,
   "id": "8662deed",
   "metadata": {},
   "outputs": [
    {
     "name": "stdout",
     "output_type": "stream",
     "text": [
      "0.0\n"
     ]
    }
   ],
   "source": [
    "yind = 20\n",
    "xind = 20\n",
    "print(emiss[yind,xind])"
   ]
  },
  {
   "cell_type": "code",
   "execution_count": 42,
   "id": "b6b68375",
   "metadata": {
    "scrolled": true
   },
   "outputs": [
    {
     "name": "stdout",
     "output_type": "stream",
     "text": [
      "xind 20\n",
      "yind 150\n",
      "0.0\n"
     ]
    }
   ],
   "source": [
    "L0 = 35 #Mm\n",
    "#print(xvec.size)\n",
    "#print(xvec)\n",
    "#print(xvec/np.amax(xvec)*L0)\n",
    "xvecdim = xvec/np.amax(xvec)*L0\n",
    "yvecdim = yvec/np.amax(yvec)*L0\n",
    "#print(xvecdim[0:20])\n",
    "#print(yvecdim)\n",
    "xpoint = 2  #in Mm\n",
    "ypoint = L0 - 20 #in Mm\n",
    "xind = int(xpoint/L0*xvec.size)\n",
    "yind = int(ypoint/L0*yvec.size)\n",
    "print('xind',xind)\n",
    "print('yind',yind)\n",
    "print(emiss[yind,xind])"
   ]
  },
  {
   "cell_type": "code",
   "execution_count": 47,
   "id": "a040b686",
   "metadata": {},
   "outputs": [
    {
     "name": "stdout",
     "output_type": "stream",
     "text": [
      "newy [19.9284686]\n",
      "newx [2.05293278]\n"
     ]
    }
   ],
   "source": [
    "#posición en Mm del punto en \"x\" y en \"y\"\n",
    "newy=L0 - yvecdim[yind:yind+1]\n",
    "newx=xvecdim[xind:xind+1]\n",
    "print('newy',newy)\n",
    "print('newx',newx)"
   ]
  },
  {
   "cell_type": "code",
   "execution_count": 49,
   "id": "5756a678",
   "metadata": {},
   "outputs": [
    {
     "name": "stdout",
     "output_type": "stream",
     "text": [
      "[[0.]]\n",
      "(1, 1)\n"
     ]
    }
   ],
   "source": [
    "newemiss=emiss[yind:yind+1,xind:xind+1]\n",
    "allemiss=newemiss\n",
    "print(allemiss)\n",
    "print(allemiss.shape)"
   ]
  },
  {
   "cell_type": "code",
   "execution_count": 50,
   "id": "e7f8dbe3",
   "metadata": {},
   "outputs": [
    {
     "name": "stdout",
     "output_type": "stream",
     "text": [
      "Reading file /home/cecere/programas/fomo/fomo-c/example/example_loops/des5/desequilibrio_5-131-t0001.txt\n",
      "[[0.]]\n",
      "(2, 1)\n",
      "Reading file /home/cecere/programas/fomo/fomo-c/example/example_loops/des5/desequilibrio_5-131-t0002.txt\n",
      "[[0.]]\n",
      "(3, 1)\n",
      "Reading file /home/cecere/programas/fomo/fomo-c/example/example_loops/des5/desequilibrio_5-131-t0003.txt\n",
      "[[2228.251]]\n",
      "(4, 1)\n",
      "Reading file /home/cecere/programas/fomo/fomo-c/example/example_loops/des5/desequilibrio_5-131-t0004.txt\n",
      "[[1935.8594]]\n",
      "(5, 1)\n",
      "Reading file /home/cecere/programas/fomo/fomo-c/example/example_loops/des5/desequilibrio_5-131-t0005.txt\n",
      "[[1853.5889]]\n",
      "(6, 1)\n",
      "Reading file /home/cecere/programas/fomo/fomo-c/example/example_loops/des5/desequilibrio_5-131-t0006.txt\n",
      "[[1839.3439]]\n",
      "(7, 1)\n",
      "Reading file /home/cecere/programas/fomo/fomo-c/example/example_loops/des5/desequilibrio_5-131-t0007.txt\n",
      "[[1826.891]]\n",
      "(8, 1)\n",
      "Reading file /home/cecere/programas/fomo/fomo-c/example/example_loops/des5/desequilibrio_5-131-t0008.txt\n",
      "[[1811.7145]]\n",
      "(9, 1)\n",
      "Reading file /home/cecere/programas/fomo/fomo-c/example/example_loops/des5/desequilibrio_5-131-t0009.txt\n",
      "[[1796.9542]]\n",
      "(10, 1)\n",
      "Reading file /home/cecere/programas/fomo/fomo-c/example/example_loops/des5/desequilibrio_5-131-t0010.txt\n",
      "[[1785.2274]]\n",
      "(11, 1)\n",
      "Reading file /home/cecere/programas/fomo/fomo-c/example/example_loops/des5/desequilibrio_5-131-t0011.txt\n",
      "[[1772.9604]]\n",
      "(12, 1)\n",
      "Reading file /home/cecere/programas/fomo/fomo-c/example/example_loops/des5/desequilibrio_5-131-t0012.txt\n",
      "[[1757.7886]]\n",
      "(13, 1)\n",
      "Reading file /home/cecere/programas/fomo/fomo-c/example/example_loops/des5/desequilibrio_5-131-t0013.txt\n",
      "[[1740.2648]]\n",
      "(14, 1)\n",
      "Reading file /home/cecere/programas/fomo/fomo-c/example/example_loops/des5/desequilibrio_5-131-t0014.txt\n",
      "[[1711.0862]]\n",
      "(15, 1)\n",
      "Reading file /home/cecere/programas/fomo/fomo-c/example/example_loops/des5/desequilibrio_5-131-t0015.txt\n",
      "[[1679.1979]]\n",
      "(16, 1)\n",
      "Reading file /home/cecere/programas/fomo/fomo-c/example/example_loops/des5/desequilibrio_5-131-t0016.txt\n",
      "[[1649.7334]]\n",
      "(17, 1)\n",
      "Reading file /home/cecere/programas/fomo/fomo-c/example/example_loops/des5/desequilibrio_5-131-t0017.txt\n",
      "[[1634.7]]\n",
      "(18, 1)\n",
      "Reading file /home/cecere/programas/fomo/fomo-c/example/example_loops/des5/desequilibrio_5-131-t0018.txt\n",
      "[[1635.7836]]\n",
      "(19, 1)\n",
      "Reading file /home/cecere/programas/fomo/fomo-c/example/example_loops/des5/desequilibrio_5-131-t0019.txt\n",
      "[[1671.16]]\n",
      "(20, 1)\n",
      "Reading file /home/cecere/programas/fomo/fomo-c/example/example_loops/des5/desequilibrio_5-131-t0020.txt\n",
      "[[1740.7954]]\n",
      "(21, 1)\n",
      "Reading file /home/cecere/programas/fomo/fomo-c/example/example_loops/des5/desequilibrio_5-131-t0021.txt\n",
      "[[1884.9319]]\n",
      "(22, 1)\n",
      "Reading file /home/cecere/programas/fomo/fomo-c/example/example_loops/des5/desequilibrio_5-131-t0022.txt\n",
      "[[2069.1526]]\n",
      "(23, 1)\n",
      "Reading file /home/cecere/programas/fomo/fomo-c/example/example_loops/des5/desequilibrio_5-131-t0023.txt\n",
      "[[2179.3735]]\n",
      "(24, 1)\n",
      "Reading file /home/cecere/programas/fomo/fomo-c/example/example_loops/des5/desequilibrio_5-131-t0024.txt\n",
      "[[2275.667]]\n",
      "(25, 1)\n",
      "Reading file /home/cecere/programas/fomo/fomo-c/example/example_loops/des5/desequilibrio_5-131-t0025.txt\n",
      "[[0.]]\n",
      "(26, 1)\n",
      "Reading file /home/cecere/programas/fomo/fomo-c/example/example_loops/des5/desequilibrio_5-131-t0026.txt\n",
      "[[0.]]\n",
      "(27, 1)\n",
      "Reading file /home/cecere/programas/fomo/fomo-c/example/example_loops/des5/desequilibrio_5-131-t0027.txt\n",
      "[[0.]]\n",
      "(28, 1)\n",
      "Reading file /home/cecere/programas/fomo/fomo-c/example/example_loops/des5/desequilibrio_5-131-t0028.txt\n",
      "[[2267.0789]]\n",
      "(29, 1)\n",
      "Reading file /home/cecere/programas/fomo/fomo-c/example/example_loops/des5/desequilibrio_5-131-t0029.txt\n",
      "[[2171.5713]]\n",
      "(30, 1)\n",
      "Reading file /home/cecere/programas/fomo/fomo-c/example/example_loops/des5/desequilibrio_5-131-t0030.txt\n",
      "[[2105.2607]]\n",
      "(31, 1)\n",
      "Reading file /home/cecere/programas/fomo/fomo-c/example/example_loops/des5/desequilibrio_5-131-t0031.txt\n",
      "[[2057.6216]]\n",
      "(32, 1)\n",
      "Reading file /home/cecere/programas/fomo/fomo-c/example/example_loops/des5/desequilibrio_5-131-t0032.txt\n",
      "[[2021.8706]]\n",
      "(33, 1)\n",
      "Reading file /home/cecere/programas/fomo/fomo-c/example/example_loops/des5/desequilibrio_5-131-t0033.txt\n",
      "[[1988.8794]]\n",
      "(34, 1)\n",
      "Reading file /home/cecere/programas/fomo/fomo-c/example/example_loops/des5/desequilibrio_5-131-t0034.txt\n",
      "[[1955.7263]]\n",
      "(35, 1)\n",
      "Reading file /home/cecere/programas/fomo/fomo-c/example/example_loops/des5/desequilibrio_5-131-t0035.txt\n",
      "[[1907.137]]\n",
      "(36, 1)\n",
      "Reading file /home/cecere/programas/fomo/fomo-c/example/example_loops/des5/desequilibrio_5-131-t0036.txt\n",
      "[[1858.0355]]\n",
      "(37, 1)\n",
      "Reading file /home/cecere/programas/fomo/fomo-c/example/example_loops/des5/desequilibrio_5-131-t0037.txt\n",
      "[[1807.2593]]\n",
      "(38, 1)\n",
      "Reading file /home/cecere/programas/fomo/fomo-c/example/example_loops/des5/desequilibrio_5-131-t0038.txt\n",
      "[[1720.6433]]\n",
      "(39, 1)\n",
      "Reading file /home/cecere/programas/fomo/fomo-c/example/example_loops/des5/desequilibrio_5-131-t0039.txt\n",
      "[[1651.3533]]\n",
      "(40, 1)\n",
      "Reading file /home/cecere/programas/fomo/fomo-c/example/example_loops/des5/desequilibrio_5-131-t0040.txt\n",
      "[[1586.5652]]\n",
      "(41, 1)\n",
      "Reading file /home/cecere/programas/fomo/fomo-c/example/example_loops/des5/desequilibrio_5-131-t0041.txt\n",
      "[[1539.9338]]\n",
      "(42, 1)\n",
      "Reading file /home/cecere/programas/fomo/fomo-c/example/example_loops/des5/desequilibrio_5-131-t0042.txt\n",
      "[[1527.619]]\n",
      "(43, 1)\n",
      "Reading file /home/cecere/programas/fomo/fomo-c/example/example_loops/des5/desequilibrio_5-131-t0043.txt\n",
      "[[1556.4482]]\n",
      "(44, 1)\n",
      "Reading file /home/cecere/programas/fomo/fomo-c/example/example_loops/des5/desequilibrio_5-131-t0044.txt\n",
      "[[1623.5354]]\n",
      "(45, 1)\n",
      "Reading file /home/cecere/programas/fomo/fomo-c/example/example_loops/des5/desequilibrio_5-131-t0045.txt\n",
      "[[1714.2014]]\n",
      "(46, 1)\n",
      "Reading file /home/cecere/programas/fomo/fomo-c/example/example_loops/des5/desequilibrio_5-131-t0046.txt\n",
      "[[1817.834]]\n",
      "(47, 1)\n",
      "Reading file /home/cecere/programas/fomo/fomo-c/example/example_loops/des5/desequilibrio_5-131-t0047.txt\n",
      "[[1928.3723]]\n",
      "(48, 1)\n",
      "Reading file /home/cecere/programas/fomo/fomo-c/example/example_loops/des5/desequilibrio_5-131-t0048.txt\n",
      "[[2034.0386]]\n",
      "(49, 1)\n",
      "Reading file /home/cecere/programas/fomo/fomo-c/example/example_loops/des5/desequilibrio_5-131-t0049.txt\n",
      "[[2135.0955]]\n",
      "(50, 1)\n",
      "Reading file /home/cecere/programas/fomo/fomo-c/example/example_loops/des5/desequilibrio_5-131-t0050.txt\n",
      "[[2226.6145]]\n",
      "(51, 1)\n",
      "Reading file /home/cecere/programas/fomo/fomo-c/example/example_loops/des5/desequilibrio_5-131-t0051.txt\n",
      "[[2291.0352]]\n",
      "(52, 1)\n",
      "Reading file /home/cecere/programas/fomo/fomo-c/example/example_loops/des5/desequilibrio_5-131-t0052.txt\n",
      "[[0.]]\n",
      "(53, 1)\n",
      "Reading file /home/cecere/programas/fomo/fomo-c/example/example_loops/des5/desequilibrio_5-131-t0053.txt\n",
      "[[0.]]\n",
      "(54, 1)\n",
      "Reading file /home/cecere/programas/fomo/fomo-c/example/example_loops/des5/desequilibrio_5-131-t0054.txt\n",
      "[[0.]]\n",
      "(55, 1)\n",
      "Reading file /home/cecere/programas/fomo/fomo-c/example/example_loops/des5/desequilibrio_5-131-t0055.txt\n",
      "[[2322.0557]]\n",
      "(56, 1)\n",
      "Reading file /home/cecere/programas/fomo/fomo-c/example/example_loops/des5/desequilibrio_5-131-t0056.txt\n",
      "[[2303.7017]]\n",
      "(57, 1)\n",
      "Reading file /home/cecere/programas/fomo/fomo-c/example/example_loops/des5/desequilibrio_5-131-t0057.txt\n",
      "[[2262.4194]]\n",
      "(58, 1)\n",
      "Reading file /home/cecere/programas/fomo/fomo-c/example/example_loops/des5/desequilibrio_5-131-t0058.txt\n",
      "[[2218.7917]]\n",
      "(59, 1)\n",
      "Reading file /home/cecere/programas/fomo/fomo-c/example/example_loops/des5/desequilibrio_5-131-t0059.txt\n",
      "[[2195.5586]]\n",
      "(60, 1)\n",
      "Reading file /home/cecere/programas/fomo/fomo-c/example/example_loops/des5/desequilibrio_5-131-t0060.txt\n",
      "[[2176.5535]]\n",
      "(61, 1)\n",
      "Reading file /home/cecere/programas/fomo/fomo-c/example/example_loops/des5/desequilibrio_5-131-t0061.txt\n",
      "[[2120.9175]]\n",
      "(62, 1)\n",
      "Reading file /home/cecere/programas/fomo/fomo-c/example/example_loops/des5/desequilibrio_5-131-t0062.txt\n",
      "[[2036.8973]]\n",
      "(63, 1)\n",
      "Reading file /home/cecere/programas/fomo/fomo-c/example/example_loops/des5/desequilibrio_5-131-t0063.txt\n",
      "[[1938.911]]\n",
      "(64, 1)\n",
      "Reading file /home/cecere/programas/fomo/fomo-c/example/example_loops/des5/desequilibrio_5-131-t0064.txt\n",
      "[[1835.3704]]\n",
      "(65, 1)\n",
      "Reading file /home/cecere/programas/fomo/fomo-c/example/example_loops/des5/desequilibrio_5-131-t0065.txt\n",
      "[[1731.5204]]\n",
      "(66, 1)\n",
      "Reading file /home/cecere/programas/fomo/fomo-c/example/example_loops/des5/desequilibrio_5-131-t0066.txt\n"
     ]
    },
    {
     "name": "stdout",
     "output_type": "stream",
     "text": [
      "[[1649.2019]]\n",
      "(67, 1)\n",
      "Reading file /home/cecere/programas/fomo/fomo-c/example/example_loops/des5/desequilibrio_5-131-t0067.txt\n",
      "[[1589.991]]\n",
      "(68, 1)\n",
      "Reading file /home/cecere/programas/fomo/fomo-c/example/example_loops/des5/desequilibrio_5-131-t0068.txt\n",
      "[[1569.5155]]\n",
      "(69, 1)\n",
      "Reading file /home/cecere/programas/fomo/fomo-c/example/example_loops/des5/desequilibrio_5-131-t0069.txt\n",
      "[[1603.8693]]\n",
      "(70, 1)\n",
      "Reading file /home/cecere/programas/fomo/fomo-c/example/example_loops/des5/desequilibrio_5-131-t0070.txt\n",
      "[[1682.6998]]\n",
      "(71, 1)\n",
      "Reading file /home/cecere/programas/fomo/fomo-c/example/example_loops/des5/desequilibrio_5-131-t0071.txt\n",
      "[[1784.0306]]\n",
      "(72, 1)\n",
      "Reading file /home/cecere/programas/fomo/fomo-c/example/example_loops/des5/desequilibrio_5-131-t0072.txt\n",
      "[[1910.5408]]\n",
      "(73, 1)\n",
      "Reading file /home/cecere/programas/fomo/fomo-c/example/example_loops/des5/desequilibrio_5-131-t0073.txt\n",
      "[[2018.3822]]\n",
      "(74, 1)\n",
      "Reading file /home/cecere/programas/fomo/fomo-c/example/example_loops/des5/desequilibrio_5-131-t0074.txt\n",
      "[[2069.8335]]\n",
      "(75, 1)\n",
      "Reading file /home/cecere/programas/fomo/fomo-c/example/example_loops/des5/desequilibrio_5-131-t0075.txt\n",
      "[[2100.895]]\n",
      "(76, 1)\n",
      "Reading file /home/cecere/programas/fomo/fomo-c/example/example_loops/des5/desequilibrio_5-131-t0076.txt\n",
      "[[2109.979]]\n",
      "(77, 1)\n",
      "Reading file /home/cecere/programas/fomo/fomo-c/example/example_loops/des5/desequilibrio_5-131-t0077.txt\n",
      "[[2093.4417]]\n",
      "(78, 1)\n",
      "Reading file /home/cecere/programas/fomo/fomo-c/example/example_loops/des5/desequilibrio_5-131-t0078.txt\n",
      "[[2071.5823]]\n",
      "(79, 1)\n",
      "Reading file /home/cecere/programas/fomo/fomo-c/example/example_loops/des5/desequilibrio_5-131-t0079.txt\n",
      "[[2076.7788]]\n",
      "(80, 1)\n",
      "Reading file /home/cecere/programas/fomo/fomo-c/example/example_loops/des5/desequilibrio_5-131-t0080.txt\n",
      "[[2131.113]]\n",
      "(81, 1)\n",
      "Reading file /home/cecere/programas/fomo/fomo-c/example/example_loops/des5/desequilibrio_5-131-t0081.txt\n",
      "[[2310.3105]]\n",
      "(82, 1)\n",
      "Reading file /home/cecere/programas/fomo/fomo-c/example/example_loops/des5/desequilibrio_5-131-t0082.txt\n",
      "[[0.]]\n",
      "(83, 1)\n",
      "Reading file /home/cecere/programas/fomo/fomo-c/example/example_loops/des5/desequilibrio_5-131-t0083.txt\n",
      "[[0.]]\n",
      "(84, 1)\n",
      "Reading file /home/cecere/programas/fomo/fomo-c/example/example_loops/des5/desequilibrio_5-131-t0084.txt\n",
      "[[2241.4873]]\n",
      "(85, 1)\n",
      "Reading file /home/cecere/programas/fomo/fomo-c/example/example_loops/des5/desequilibrio_5-131-t0085.txt\n",
      "[[2145.0696]]\n",
      "(86, 1)\n",
      "Reading file /home/cecere/programas/fomo/fomo-c/example/example_loops/des5/desequilibrio_5-131-t0086.txt\n",
      "[[2035.6757]]\n",
      "(87, 1)\n",
      "Reading file /home/cecere/programas/fomo/fomo-c/example/example_loops/des5/desequilibrio_5-131-t0087.txt\n",
      "[[1912.9434]]\n",
      "(88, 1)\n",
      "Reading file /home/cecere/programas/fomo/fomo-c/example/example_loops/des5/desequilibrio_5-131-t0088.txt\n",
      "[[1790.2213]]\n",
      "(89, 1)\n",
      "Reading file /home/cecere/programas/fomo/fomo-c/example/example_loops/des5/desequilibrio_5-131-t0089.txt\n",
      "[[1722.8134]]\n",
      "(90, 1)\n",
      "Reading file /home/cecere/programas/fomo/fomo-c/example/example_loops/des5/desequilibrio_5-131-t0090.txt\n",
      "[[1707.1718]]\n",
      "(91, 1)\n",
      "Reading file /home/cecere/programas/fomo/fomo-c/example/example_loops/des5/desequilibrio_5-131-t0091.txt\n",
      "[[1715.576]]\n",
      "(92, 1)\n",
      "Reading file /home/cecere/programas/fomo/fomo-c/example/example_loops/des5/desequilibrio_5-131-t0092.txt\n",
      "[[1702.7563]]\n",
      "(93, 1)\n",
      "Reading file /home/cecere/programas/fomo/fomo-c/example/example_loops/des5/desequilibrio_5-131-t0093.txt\n",
      "[[1697.0115]]\n",
      "(94, 1)\n",
      "Reading file /home/cecere/programas/fomo/fomo-c/example/example_loops/des5/desequilibrio_5-131-t0094.txt\n",
      "[[1713.2451]]\n",
      "(95, 1)\n",
      "Reading file /home/cecere/programas/fomo/fomo-c/example/example_loops/des5/desequilibrio_5-131-t0095.txt\n",
      "[[1744.3619]]\n",
      "(96, 1)\n",
      "Reading file /home/cecere/programas/fomo/fomo-c/example/example_loops/des5/desequilibrio_5-131-t0096.txt\n",
      "[[1786.6295]]\n",
      "(97, 1)\n",
      "Reading file /home/cecere/programas/fomo/fomo-c/example/example_loops/des5/desequilibrio_5-131-t0097.txt\n",
      "[[1831.8641]]\n",
      "(98, 1)\n",
      "Reading file /home/cecere/programas/fomo/fomo-c/example/example_loops/des5/desequilibrio_5-131-t0098.txt\n",
      "[[1869.7356]]\n",
      "(99, 1)\n",
      "Reading file /home/cecere/programas/fomo/fomo-c/example/example_loops/des5/desequilibrio_5-131-t0099.txt\n",
      "[[1904.5312]]\n",
      "(100, 1)\n"
     ]
    }
   ],
   "source": [
    "for filename in filelist[1:]:\n",
    "    print('Reading file',filename)\n",
    "    data=readgoftcube(filename)\n",
    "    emiss,xvec,yvec,lvec=regulargoftcube(data)\n",
    "    #tomo un ancho en y para que quede mejor el gráfico\n",
    "    newemiss=emiss[yind:yind+1,xind:xind+1]\n",
    "    #print(newemiss)\n",
    "    #construyo una nueva matriz, suma de los cortes en cada tiempo\n",
    "    allemiss=np.concatenate((allemiss,newemiss), axis=0)\n",
    "    #print(allemiss.shape)\n"
   ]
  },
  {
   "cell_type": "code",
   "execution_count": 51,
   "id": "88a8c32d",
   "metadata": {},
   "outputs": [
    {
     "name": "stdout",
     "output_type": "stream",
     "text": [
      "100\n",
      "[ 0.          0.50505051  1.01010101  1.51515152  2.02020202  2.52525253\n",
      "  3.03030303  3.53535354  4.04040404  4.54545455  5.05050505  5.55555556\n",
      "  6.06060606  6.56565657  7.07070707  7.57575758  8.08080808  8.58585859\n",
      "  9.09090909  9.5959596  10.1010101  10.60606061 11.11111111 11.61616162\n",
      " 12.12121212 12.62626263 13.13131313 13.63636364 14.14141414 14.64646465\n",
      " 15.15151515 15.65656566 16.16161616 16.66666667 17.17171717 17.67676768\n",
      " 18.18181818 18.68686869 19.19191919 19.6969697  20.2020202  20.70707071\n",
      " 21.21212121 21.71717172 22.22222222 22.72727273 23.23232323 23.73737374\n",
      " 24.24242424 24.74747475 25.25252525 25.75757576 26.26262626 26.76767677\n",
      " 27.27272727 27.77777778 28.28282828 28.78787879 29.29292929 29.7979798\n",
      " 30.3030303  30.80808081 31.31313131 31.81818182 32.32323232 32.82828283\n",
      " 33.33333333 33.83838384 34.34343434 34.84848485 35.35353535 35.85858586\n",
      " 36.36363636 36.86868687 37.37373737 37.87878788 38.38383838 38.88888889\n",
      " 39.39393939 39.8989899  40.4040404  40.90909091 41.41414141 41.91919192\n",
      " 42.42424242 42.92929293 43.43434343 43.93939394 44.44444444 44.94949495\n",
      " 45.45454545 45.95959596 46.46464646 46.96969697 47.47474747 47.97979798\n",
      " 48.48484848 48.98989899 49.49494949 50.        ]\n"
     ]
    }
   ],
   "source": [
    "tdim=np.linspace(0.,allemiss.shape[0]*0.5,num=allemiss.shape[0])\n",
    "print(allemiss.shape[0])\n",
    "print(tdim)"
   ]
  },
  {
   "cell_type": "code",
   "execution_count": null,
   "id": "561f8d4a",
   "metadata": {},
   "outputs": [],
   "source": []
  },
  {
   "cell_type": "code",
   "execution_count": 52,
   "id": "d57f9f18",
   "metadata": {},
   "outputs": [],
   "source": [
    "# set colour map\n",
    "cmap=matcm.hot\n",
    "aiafilter=os.path.basename(chiantifile)\n",
    "if ('goft_table_aia094' in aiafilter): cmap=plt.get_cmap('sdoaia094')\n",
    "if ('goft_table_aia131' in aiafilter): cmap=plt.get_cmap('sdoaia131')\n",
    "if ('goft_table_aia171' in aiafilter): cmap=plt.get_cmap('sdoaia171')\n",
    "if ('goft_table_aia193' in aiafilter): cmap=plt.get_cmap('sdoaia193')\n",
    "if ('goft_table_aia211' in aiafilter): cmap=plt.get_cmap('sdoaia211')\n",
    "if ('goft_table_aia304' in aiafilter): cmap=plt.get_cmap('sdoaia304')\n",
    "if ('goft_table_aia335' in aiafilter): cmap=plt.get_cmap('sdoaia335')\n",
    "#Estos valores de normalización son los necesarios para que la corona brille hasta una altura similar al filtro correspondiente\n",
    "if ('goft_table_aia094' in aiafilter): norm=colors.LogNorm(1.5, 50)\n",
    "if ('goft_table_aia131' in aiafilter): norm=colors.LogNorm(7, 1200)\n",
    "if ('goft_table_aia171' in aiafilter): norm=ImageNormalize(vmin=60000, vmax=1000000, stretch=SqrtStretch())\n",
    "#if ('goft_table_aia171' in aiafilter): norm=ImageNormalize(vmin=10, vmax=6000, stretch=SqrtStretch())\n",
    "if ('goft_table_aia193' in aiafilter): norm=colors.LogNorm(1, 6000)\n",
    "if ('goft_table_aia211' in aiafilter): norm=colors.LogNorm(1, 13000)\n",
    "if ('goft_table_aia304' in aiafilter): norm=colors.LogNorm(1, 600)\n",
    "if ('goft_table_aia335' in aiafilter): norm=colors.LogNorm(3.5, 1000)"
   ]
  },
  {
   "cell_type": "code",
   "execution_count": 53,
   "id": "66951044",
   "metadata": {},
   "outputs": [
    {
     "data": {
      "text/plain": [
       "Text(0, 0.5, '131')"
      ]
     },
     "execution_count": 53,
     "metadata": {},
     "output_type": "execute_result"
    },
    {
     "data": {
      "image/png": "[encoded data removed]",
      "text/plain": [
       "<Figure size 432x288 with 1 Axes>"
      ]
     },
     "metadata": {
      "needs_background": "light"
     },
     "output_type": "display_data"
    }
   ],
   "source": [
    "plt.plot(tdim,allemiss,label='E')\n",
    "plt.title('Desequilibrio 5')\n",
    "plt.xlabel('time [s]')\n",
    "plt.ylabel('131')"
   ]
  },
  {
   "cell_type": "code",
   "execution_count": null,
   "id": "7ec88098",
   "metadata": {},
   "outputs": [],
   "source": []
  }
 ],
 "metadata": {
  "kernelspec": {
   "display_name": "Python 3 (ipykernel)",
   "language": "python",
   "name": "python3"
  },
  "language_info": {
   "codemirror_mode": {
    "name": "ipython",
    "version": 3
   },
   "file_extension": ".py",
   "mimetype": "text/x-python",
   "name": "python",
   "nbconvert_exporter": "python",
   "pygments_lexer": "ipython3",
   "version": "3.10.2"
  }
 },
 "nbformat": 4,
 "nbformat_minor": 5
}
