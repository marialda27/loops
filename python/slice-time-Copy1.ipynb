{
 "cells": [
  {
   "cell_type": "markdown",
   "metadata": {},
   "source": [
    "Este archivo lo que hace es generar información rápida sobre toda la\n",
    "simulación.\n",
    "\n",
    "Se grafican la evolución de las variables de una simulación en un punto\n",
    "en conjunto con la evolución de la densidad de energía.\n"
   ]
  },
  {
   "cell_type": "code",
   "execution_count": 1,
   "metadata": {},
   "outputs": [],
   "source": [
    "# Librerías a usar\n",
    "import h5py\n",
    "import numpy as np\n",
    "import matplotlib.pyplot as plt\n",
    "from matplotlib.backends.backend_pdf import PdfPages\n",
    "import numpy.polynomial.polynomial as poly\n",
    "import matplotlib\n",
    "import matplotlib.patches as mpatches\n",
    "import math"
   ]
  },
  {
   "cell_type": "code",
   "execution_count": 2,
   "metadata": {},
   "outputs": [],
   "source": [
    "# Path de los archivos que quiero abrir\n",
    "path = '/run/media/cecere/7d4a4576-37a1-4a7a-bcab-27905bc96ce8/Backup_femputadora/data_loop/'\n",
    "simulacion ='desequilibrio_3'"
   ]
  },
  {
   "cell_type": "code",
   "execution_count": 68,
   "metadata": {},
   "outputs": [],
   "source": [
    "# Tomo el primer dato para ver que contiene el archivo\n",
    "g = h5py.File(path+simulacion+'/'+'welbalanced_hdf5_plt_cnt_0000','r')\n",
    "g.keys() # para ver toda la información que contiene el archivo\n",
    "\n",
    "ncx1b  = list(g['integer scalars'][0])[1]     # Número de celdas en un bloque en x\n",
    "#print(ncx1b)\n",
    "ncy1b  = list(g['integer scalars'][1])[1]     # Número de celdas en un bloque en y\n",
    "#print(ncy1b)\n",
    "boundb = g['bounding box'][:,:,:]           # Coordenada central de cada bloque\n",
    "#print(boundb)\n",
    "    \n",
    "niprocs = list(g['integer scalars'][7])[1]     # Número de procesadores usados en x = número de bloques en x\n",
    "#print(niprocs)\n",
    "njprocs = list(g['integer scalars'][8])[1]     # Número de procesadores usados en y = número de bloques en y\n",
    "#print(njprocs)\n",
    "    \n",
    "#print(list(f['integer scalars']))\n",
    "#0 -> nxb 50\n",
    "#1 -> nyb 50\n",
    "#2 -> nzb 1\n",
    "#3 -> dimensionality 2\n",
    "#4 -> globalnumblocks 49\n",
    "#5 -> nstep 1\n",
    "#6 -> nbegin 1\n",
    "#7 -> iprocs 7\n",
    "#8 -> jprocs 7\n",
    "#9 -> kprocs 1\n",
    "#10 -> splitnumblocks 0 \n",
    "#11 -> splitnumparticles 0\n",
    "#12 -> checkpointfilenumber 1\n",
    "#13 -> plotfilenumber 0\n",
    "#14 -> forcedplotfilenumber 0\n",
    "    \n",
    "nb = list(g['integer scalars'][4])[1]   # Número total de bloques iprocs x jprocs\n",
    "#print(nb)\n",
    "# Número total de celdas en \"x\" y en \"y\"\n",
    "ncx = niprocs*ncx1b\n",
    "ncy = njprocs*ncy1b"
   ]
  },
  {
   "cell_type": "code",
   "execution_count": 69,
   "metadata": {},
   "outputs": [],
   "source": [
    "# Da las coordenadas del centro de los bloques\n",
    "#print(list(g['coordinates']))\n",
    "\n",
    "# Da las 3 coordenadas del centro del bloque 0 (hay 49 elementos)\n",
    "#print(list(g['coordinates'][0]))\n",
    "\n",
    "# Da las coordenadas x, y, z del centro del bloque 0 (hay 49 elementos)\n",
    "# g['coordinates'][bloque][coordenada]\n",
    "#print(g['coordinates'][0][0])\n",
    "#print(g['coordinates'][0][1])\n",
    "#print(g['coordinates'][0][2])\n",
    "\n",
    "# Defino deltaxb: coordenada x ([0]) del segundo bloque en x [1] menos el primer bloque [0].\n",
    "deltaxb = np.abs(list(g['coordinates'][1])[0]-list(g['coordinates'][0])[0])\n",
    "#print(deltaxb)\n",
    "\n",
    "# Defino deltax: deltaxb entre los centros de los primeros 2 bloques / número de celdas en 1 bloque\n",
    "deltax = deltaxb/ncx1b\n",
    "#print(deltax)\n",
    "\n",
    "# Defino deltayb: coordenada y ([1]) del segundo bloque en y [niprocs] menos el primer bloque [0].\n",
    "deltayb = np.abs(list(g['coordinates'][niprocs])[1]-list(g['coordinates'][0])[1])\n",
    "#print(deltayb)\n",
    "\n",
    "# Defino deltay: deltayb entre los centros de los primeros 2 bloques / número de celdas en 1 bloque\n",
    "deltay = deltayb/ncy1b\n",
    "#print(deltay)\n",
    "\n",
    "# Defino xmin = valor en x del centro del bloque cero - 1/2 del deltax de 1 bloque\n",
    "xmin = list(g['coordinates'][0])[0] - 0.5*deltaxb\n",
    "#print(xmin)\n",
    "\n",
    "# Defino xmax = valor en x del centro del bloque niprocs-1 + 1/2 del deltax de 1 bloque\n",
    "xmax = list(g['coordinates'][niprocs-1])[0] + 0.5*deltaxb\n",
    "#print(xmax)\n",
    "\n",
    "# Ojo, puede haber problemas por la precision\n",
    "#print(type(list(g['coordinates'][niprocs-1])[0]))\n",
    "#print(type(0.5*deltaxb))\n",
    "# Se cambia la precisión así:\n",
    "#dummy = g['coordinates'][niprocs-1][0]\n",
    "#dummy = dummy.astype('float64')\n",
    "#print(type(dummy))\n",
    "\n",
    "# Defino ymin = valor en y del centro del bloque cero - 1/2 del deltay de 1 bloque\n",
    "ymin = list(g['coordinates'][0])[1] - 0.5*deltayb\n",
    "#print(ymin)\n",
    "\n",
    "# Defino ymax = valor en y del centro del bloque (niprocs-1)*njprocs + 1/2 del deltay de 1 bloque\n",
    "ymax = list(g['coordinates'][(niprocs-1)*njprocs])[1] + 0.5*deltayb\n",
    "#print(ymax)"
   ]
  },
  {
   "cell_type": "code",
   "execution_count": 70,
   "metadata": {},
   "outputs": [
    {
     "name": "stdout",
     "output_type": "stream",
     "text": [
      "4\n",
      "0\n"
     ]
    }
   ],
   "source": [
    "# Quiero elegir un slice, y graficar la propiedad en el tiempo\n",
    "# Doy el punto en coordenadas físicas:\n",
    "# slice en x\n",
    "ym = 2e9\n",
    "# Encuentro el bloque en y:\n",
    "iby = int(ym*njprocs/(ymax-ymin))\n",
    "print(iby)\n",
    "# Calculo el indice en y dado el bloque\n",
    "iy = int((ym-iby*(ymax-ymin)/njprocs)*njprocs/(ymax-ymin)*ncy1b)\n",
    "print(iy)\n",
    "\n",
    "## slice en y\n",
    "#xm = 0.1e9\n",
    "## Encuentro el bloque en x:\n",
    "#ibx = int(xm*niprocs/(xmax-xmin))\n",
    "##print(ibx)\n",
    "## Calculo el indice en x dado el bloque\n",
    "#ix = int((xm-ibx*(xmax-xmin)/niprocs)*niprocs/(xmax-xmin)*ncx1b)\n",
    "##print(ixb)"
   ]
  },
  {
   "cell_type": "code",
   "execution_count": 71,
   "metadata": {},
   "outputs": [],
   "source": [
    "# Defino los índices de tiempo mínimo y máximo\n",
    "itmin = 0\n",
    "itmax = 99\n",
    "# Defino el tiempo físico\n",
    "time=np.arange(itmin, itmax+1)*0.5 # 1 plot cada 0.5 segundos\n",
    "#print(len(time))\n",
    "\n",
    "pdens = np.zeros((len(time),ncx))\n",
    "#pmagx = np.zeros((len(time),ncx))\n",
    "#print(pdens)\n",
    "for i in range(itmin,itmax+1):\n",
    "#    print('i=',i)\n",
    "    if   i < 10 :       # Poner el path que corresponda\n",
    "        f = h5py.File(path+simulacion+'/'+'welbalanced_hdf5_plt_cnt_000'+str(i),'r')\n",
    "    elif i < 100 :\n",
    "        f = h5py.File(path+simulacion+'/'+'welbalanced_hdf5_plt_cnt_00'+str(i),'r')\n",
    "    elif i < 1000 :\n",
    "        f = h5py.File(path+simulacion+'/'+'welbalanced_hdf5_plt_cnt_0'+str(i),'r')\n",
    "    else :\n",
    "        f = h5py.File(path+simulacion+'/'+'welbalanced_hdf5_plt_cnt_'+str(i),'r')\n",
    "#    print(f)\n",
    "\n",
    "\n",
    "    # Construyo la matriz con los bloques de los datos\n",
    "    # El orden debe ser (y,x)\n",
    "\n",
    "    for ibx in range(niprocs):\n",
    "        for ix in range(ncx1b):\n",
    "            pdens[i,ibx*ncx1b+ix]=f['dens'][ibx+iby*niprocs,0,iy,ix]\n",
    "            #pmagx[i,ibx*ncx1b+ix]=f['magx'][ibx+iby*niprocs,0,iy,ix]\n"
   ]
  },
  {
   "cell_type": "code",
   "execution_count": 72,
   "metadata": {},
   "outputs": [
    {
     "data": {
      "image/png": "[encoded data removed]",
      "text/plain": [
       "<Figure size 432x288 with 2 Axes>"
      ]
     },
     "metadata": {
      "needs_background": "light"
     },
     "output_type": "display_data"
    }
   ],
   "source": [
    "rango=(xmin,xmax,itmin,itmax)\n",
    "plt.imshow(pdens[:,0:50],cmap='rainbow', extent=rango,origin='lower',aspect='auto')\n",
    "plt.title('Dens')\n",
    "plt.ylabel(r'${t}$ [s]',fontsize=17)  \n",
    "plt.xlabel(r'${y}$ [cm]',fontsize=17)\n",
    "plt.colorbar()\n",
    "plt.show()"
   ]
  },
  {
   "cell_type": "code",
   "execution_count": 33,
   "metadata": {},
   "outputs": [
    {
     "name": "stdout",
     "output_type": "stream",
     "text": [
      "3\n"
     ]
    }
   ],
   "source": [
    "print(iby)"
   ]
  },
  {
   "cell_type": "code",
   "execution_count": null,
   "metadata": {},
   "outputs": [],
   "source": []
  }
 ],
 "metadata": {
  "kernelspec": {
   "display_name": "Python 3 (ipykernel)",
   "language": "python",
   "name": "python3"
  },
  "language_info": {
   "codemirror_mode": {
    "name": "ipython",
    "version": 3
   },
   "file_extension": ".py",
   "mimetype": "text/x-python",
   "name": "python",
   "nbconvert_exporter": "python",
   "pygments_lexer": "ipython3",
   "version": "3.10.2"
  }
 },
 "nbformat": 4,
 "nbformat_minor": 4
}
