{
 "cells": [
  {
   "cell_type": "markdown",
   "metadata": {},
   "source": [
    "Este archivo lo que hace es generar información rápida sobre toda la\n",
    "simulación.\n",
    "\n",
    "Se grafican la evolución de las variables de una simulación en un punto\n",
    "en conjunto con la evolución de la densidad de energía.\n"
   ]
  },
  {
   "cell_type": "code",
   "execution_count": 1,
   "metadata": {},
   "outputs": [],
   "source": [
    "# Librerías a usar\n",
    "import h5py\n",
    "import numpy as np\n",
    "import matplotlib.pyplot as plt\n",
    "from matplotlib.backends.backend_pdf import PdfPages\n",
    "import numpy.polynomial.polynomial as poly\n",
    "import matplotlib\n",
    "import matplotlib.patches as mpatches\n",
    "import math"
   ]
  },
  {
   "cell_type": "code",
   "execution_count": 3,
   "metadata": {},
   "outputs": [
    {
     "data": {
      "text/plain": [
       "<KeysViewHDF5 ['block size', 'bounding box', 'coordinates', 'dens', 'gid', 'integer runtime parameters', 'integer scalars', 'logical runtime parameters', 'logical scalars', 'magx', 'magy', 'magz', 'node type', 'pres', 'processor number', 'real runtime parameters', 'real scalars', 'refine level', 'sim info', 'string runtime parameters', 'string scalars', 'temp', 'unknown names', 'velx', 'vely', 'velz']>"
      ]
     },
     "execution_count": 3,
     "metadata": {},
     "output_type": "execute_result"
    }
   ],
   "source": [
    "# Path de los archivos que quiero abrir\n",
    "path = '/run/media/cecere/7d4a4576-37a1-4a7a-bcab-27905bc96ce8/Backup_femputadora/data_loop/'\n",
    "simulacion ='desequilibrio_3'\n",
    "\n",
    "# Tomo el primer dato para ver que contiene el archivo\n",
    "g = h5py.File(path+simulacion+'/'+'welbalanced_hdf5_plt_cnt_0000','r')\n",
    "g.keys() # para ver toda la información que contiene el archivo"
   ]
  },
  {
   "cell_type": "code",
   "execution_count": 4,
   "metadata": {},
   "outputs": [
    {
     "name": "stdout",
     "output_type": "stream",
     "text": [
      "1.0\n"
     ]
    }
   ],
   "source": [
    "# Defino los índices de tiempo mínimo y máximo\n",
    "itmin = 0\n",
    "itmax = 2\n",
    "# Defino el tiempo físico\n",
    "time=np.arange(itmin, itmax+1)*0.5 # 1 plot cada 0.5 segundos\n",
    "print(time[itmax])"
   ]
  },
  {
   "cell_type": "code",
   "execution_count": 14,
   "metadata": {},
   "outputs": [
    {
     "name": "stdout",
     "output_type": "stream",
     "text": [
      "<HDF5 file \"welbalanced_hdf5_plt_cnt_0000\" (mode r)>\n",
      "50\n",
      "50\n",
      "7\n",
      "7\n",
      "49\n",
      "(49, 50, 50)\n",
      "<HDF5 file \"welbalanced_hdf5_plt_cnt_0001\" (mode r)>\n",
      "50\n",
      "50\n",
      "7\n",
      "7\n",
      "49\n",
      "(49, 50, 50)\n"
     ]
    }
   ],
   "source": [
    "# Leo los archivos de datos\n",
    "for i in range(itmin,itmax):\n",
    "    if   i < 10 :       # Poner el path que corresponda\n",
    "        f = h5py.File(path+simulacion+'/'+'welbalanced_hdf5_plt_cnt_000'+str(i),'r')\n",
    "    elif i < 100 :\n",
    "        f = h5py.File(path+simulacion+'/'+'welbalanced_hdf5_plt_cnt_00'+str(i),'r')\n",
    "    else :\n",
    "        f = h5py.File(path+simulacion+'/'+'welbalanced_hdf5_plt_cnt_0'+str(i),'r')\n",
    "    \n",
    "    print(f)\n",
    "\n",
    "   \n",
    "    ncx1b  = list(f['integer scalars'][0])[1]     # Número de celdas en un bloque en x\n",
    "    print(ncx1b)\n",
    "    ncy1b  = list(f['integer scalars'][1])[1]     # Número de celdas en un bloque en y\n",
    "    print(ncy1b)\n",
    "    boundb = f['bounding box'][:,:,:]           # Coordenada central de cada bloque\n",
    "    #print(boundb)\n",
    "    \n",
    "    niprocs = list(f['integer scalars'][7])[1]     # Número de procesadores usados en x = número de bloques en x\n",
    "    print(niprocs)\n",
    "    njprocs = list(f['integer scalars'][8])[1]     # Número de procesadores usados en y = número de bloques en y\n",
    "    print(njprocs)\n",
    "    \n",
    "    #print(list(f['integer scalars']))\n",
    "    #0 -> nxb 50\n",
    "    #1 -> nyb 50\n",
    "    #2 -> nzb 1\n",
    "    #3 -> dimensionality 2\n",
    "    #4 -> globalnumblocks 49\n",
    "    #5 -> nstep 1\n",
    "    #6 -> nbegin 1\n",
    "    #7 -> iprocs 7\n",
    "    #8 -> jprocs 7\n",
    "    #9 -> kprocs 1\n",
    "    #10 -> splitnumblocks 0 \n",
    "    #11 -> splitnumparticles 0\n",
    "    #12 -> checkpointfilenumber 1\n",
    "    #13 -> plotfilenumber 0\n",
    "    #14 -> forcedplotfilenumber 0\n",
    "    \n",
    "    nb = list(f['integer scalars'][4])[1]   # Número total de bloques iprocs x jprocs\n",
    "    print(nb)\n",
    "    \n",
    "    # campo |By| \n",
    "    By = np.abs(f['magy'][:,0,:,:])\n",
    "    #print(By)\n",
    "    print(By.shape)\n",
    "    \n",
    "    #print(f['magy'][0,0,0,30])\n"
   ]
  },
  {
   "cell_type": "code",
   "execution_count": 6,
   "metadata": {},
   "outputs": [],
   "source": [
    "# Para ver propiedades: \n",
    "#help(Bz)\n",
    "#Bz.shape\n",
    "#Bz.ndim\n",
    "#Bz.size\n",
    "#f['magz'].len\n",
    "#g['refine level'] "
   ]
  },
  {
   "cell_type": "code",
   "execution_count": 7,
   "metadata": {},
   "outputs": [
    {
     "name": "stdout",
     "output_type": "stream",
     "text": [
      "[3250000000.0, 3250000000.0, 0.0]\n"
     ]
    }
   ],
   "source": [
    "# Da las coordenadas del centro de los bloques\n",
    "#print(list(f['coordinates']))\n",
    "\n",
    "# Da las 3 coordenadas del centro del bloque 0 (hay 49 elementos)\n",
    "print(list(f['coordinates'][48]))\n",
    "\n",
    "# Da las coordenadas x, y, z del centro del bloque 0 (hay 49 elementos)\n",
    "# f['coordinates'][bloque][coordenada]\n",
    "#print(f['coordinates'][0][0])\n",
    "#print(f['coordinates'][1][1])\n",
    "#print(f['coordinates'][0][2])"
   ]
  },
  {
   "cell_type": "code",
   "execution_count": 8,
   "metadata": {},
   "outputs": [],
   "source": [
    "# Da las coordenadas del centro de los bloques\n",
    "#print(list(f['coordinates']))\n",
    "\n",
    "# Da las 3 coordenadas del centro del bloque 0 (hay 49 elementos)\n",
    "#print(list(f['coordinates'][0]))\n",
    "\n",
    "# Da las coordenadas x, y, z del centro del bloque 0 (hay 49 elementos)\n",
    "# f['coordinates'][bloque][coordenada]\n",
    "#print(f['coordinates'][0][0])\n",
    "#print(f['coordinates'][0][1])\n",
    "#print(f['coordinates'][0][2])\n",
    "\n",
    "# Defino deltaxb: coordenada x ([0]) del segundo bloque en x [1] menos el primer bloque [0].\n",
    "deltaxb = np.abs(list(f['coordinates'][1])[0]-list(f['coordinates'][0])[0])\n",
    "#print(deltaxb)\n",
    "\n",
    "# Defino deltax: deltaxb entre los centros de los primeros 2 bloques / número de celdas en 1 bloque\n",
    "deltax = deltaxb/ncx1b\n",
    "#print(deltax)\n",
    "\n",
    "# Defino deltayb: coordenada y ([1]) del segundo bloque en y [niprocs] menos el primer bloque [0].\n",
    "deltayb = np.abs(list(f['coordinates'][niprocs])[1]-list(f['coordinates'][0])[1])\n",
    "#print(deltayb)\n",
    "\n",
    "# Defino deltay: deltayb entre los centros de los primeros 2 bloques / número de celdas en 1 bloque\n",
    "deltay = deltayb/ncy1b\n",
    "#print(deltay)\n",
    "\n",
    "# Defino xmin = valor en x del centro del bloque cero - 1/2 del deltax de 1 bloque\n",
    "xmin = list(f['coordinates'][0])[0] - 0.5*deltaxb\n",
    "#print(xmin)\n",
    "\n",
    "# Defino xmax = valor en x del centro del bloque niprocs-1 + 1/2 del deltax de 1 bloque\n",
    "xmax = list(f['coordinates'][niprocs-1])[0] + 0.5*deltaxb\n",
    "#print(xmax)\n",
    "\n",
    "# Ojo, puede haber problemas por la precision\n",
    "#print(type(list(f['coordinates'][niprocs-1])[0]))\n",
    "#print(type(0.5*deltaxb))\n",
    "# Se cambia la precisión así:\n",
    "#dummy = f['coordinates'][niprocs-1][0]\n",
    "#dummy = dummy.astype('float64')\n",
    "#print(type(dummy))\n",
    "\n",
    "# Defino ymin = valor en y del centro del bloque cero - 1/2 del deltay de 1 bloque\n",
    "ymin = list(f['coordinates'][0])[1] - 0.5*deltayb\n",
    "#print(ymin)\n",
    "\n",
    "# Defino ymax = valor en y del centro del bloque (niprocs-1)*njprocs + 1/2 del deltay de 1 bloque\n",
    "ymax = list(f['coordinates'][(niprocs-1)*njprocs])[1] + 0.5*deltayb\n",
    "#print(ymax)"
   ]
  },
  {
   "cell_type": "code",
   "execution_count": 9,
   "metadata": {},
   "outputs": [
    {
     "name": "stdout",
     "output_type": "stream",
     "text": [
      "350\n",
      "(350, 350)\n"
     ]
    }
   ],
   "source": [
    "# Para graficar\n",
    "rango=(xmin,xmax,ymin,ymax)\n",
    "\n",
    "# Número total de celdas en \"x\" y en \"y\"\n",
    "ncx = niprocs*ncx1b\n",
    "ncy = njprocs*ncy1b\n",
    "print(ncy)\n",
    "\n",
    "# Inicializando a cero los elementos de la matriz a graficar\n",
    "dens=np.zeros((ncx,ncy))\n",
    "print(dens.shape)\n",
    "magy=np.zeros((ncx,ncy))\n",
    "\n",
    "# Construyo la matriz con los bloques de los datos\n",
    "# El orden debe ser (y,x)\n",
    "for iby in range(njprocs):\n",
    "    for ibx in range(niprocs):\n",
    "        for iy in range(ncy1b):\n",
    "            for ix in range(ncx1b):\n",
    "                dens[iby*ncy1b+iy,ibx*ncx1b+ix]=f['dens'][ibx+iby*niprocs,0,iy,ix]\n",
    "                magy[iby*ncy1b+iy,ibx*ncx1b+ix]=f['magy'][ibx+iby*niprocs,0,iy,ix]\n",
    "#print(dens.shape)\n",
    "#print(magy.shape)\n",
    "\n",
    "#f['magy'][0,0,nx,:]"
   ]
  },
  {
   "cell_type": "code",
   "execution_count": 17,
   "metadata": {},
   "outputs": [
    {
     "name": "stdout",
     "output_type": "stream",
     "text": [
      "349\n"
     ]
    }
   ],
   "source": [
    "print(iby*ncy1b+iy)"
   ]
  },
  {
   "cell_type": "code",
   "execution_count": 10,
   "metadata": {},
   "outputs": [
    {
     "data": {
      "text/plain": [
       "<function matplotlib.pyplot.show(close=None, block=None)>"
      ]
     },
     "execution_count": 10,
     "metadata": {},
     "output_type": "execute_result"
    },
    {
     "data": {
      "image/png": "[encoded data removed]",
      "text/plain": [
       "<Figure size 432x288 with 1 Axes>"
      ]
     },
     "metadata": {
      "needs_background": "light"
     },
     "output_type": "display_data"
    }
   ],
   "source": [
    "#las coordenadas estan escritas dens[y,x]\n",
    "#print(dens[0,:])\n",
    "plt.plot(np.arange(ncy),dens[:,175],label='y')\n",
    "plt.show"
   ]
  },
  {
   "cell_type": "code",
   "execution_count": 11,
   "metadata": {},
   "outputs": [
    {
     "data": {
      "image/png": "[encoded data removed]",
      "text/plain": [
       "<Figure size 432x288 with 2 Axes>"
      ]
     },
     "metadata": {
      "needs_background": "light"
     },
     "output_type": "display_data"
    }
   ],
   "source": [
    "plt.imshow(dens,cmap='plasma', extent=rango,origin='lower')\n",
    "plt.title('Dens')\n",
    "plt.ylabel(r'${y}$ [cm]',fontsize=17)  \n",
    "plt.xlabel(r'${x}$ [cm]',fontsize=17)\n",
    "plt.colorbar()\n",
    "plt.show()\n"
   ]
  },
  {
   "cell_type": "code",
   "execution_count": null,
   "metadata": {},
   "outputs": [],
   "source": [
    "  "
   ]
  },
  {
   "cell_type": "code",
   "execution_count": 9,
   "metadata": {},
   "outputs": [],
   "source": [
    "# Quiero elegir un punto, y graficar la propiedad en el tiempo\n",
    "# Doy el punto en coordenadas físicas:\n",
    "xm = 0.1e9\n",
    "ym = 1.75e9\n",
    "# Encuentro el bloque en x:\n",
    "ibx = int(xm*niprocs/(xmax-xmin))\n",
    "#print(ibx)\n",
    "# Encuentro el bloque en y:\n",
    "iby = int(ym*njprocs/(ymax-ymin))\n",
    "#print(iby)\n",
    "# Entonces el índice del bloque es: \n",
    "ib = niprocs*iby+ibx\n",
    "#print(ib)\n",
    "# Calculo el indice en x dado el bloque\n",
    "ixb = int((xm-ibx*(xmax-xmin)/niprocs)*niprocs/(xmax-xmin)*ncx1b)\n",
    "#print(ixb)\n",
    "# Calculo el indice en y dado el bloque\n",
    "iyb = int((ym-iby*(ymax-ymin)/njprocs)*njprocs/(ymax-ymin)*ncy1b)\n",
    "#print(iyb)\n",
    "# Luego, la coordenada dado xm e ym sera [ib,0,iyb,ixb]\n",
    "#print(f['dens'][ib,0,iyb,ixb])"
   ]
  },
  {
   "cell_type": "code",
   "execution_count": 91,
   "metadata": {},
   "outputs": [],
   "source": [
    "# Defino los índices de tiempo mínimo y máximo\n",
    "itmin = 0\n",
    "itmax = 5\n",
    "# Defino el tiempo físico\n",
    "time=np.arange(itmin, itmax+1)*0.5 # 1 plot cada 0.5 segundos\n",
    "#print(len(time))\n",
    "\n",
    "#pdens = np.zeros((len(time),ncy,ncx))\n",
    "pmagx = np.zeros((len(time),ncy,ncx))\n",
    "#print(pdens)\n",
    "for i in range(itmin,itmax+1):\n",
    "#    print('i=',i)\n",
    "    if   i < 10 :       # Poner el path que corresponda\n",
    "        f = h5py.File(path+simulacion+'/'+'welbalanced_hdf5_plt_cnt_000'+str(i),'r')\n",
    "    elif i < 100 :\n",
    "        f = h5py.File(path+simulacion+'/'+'welbalanced_hdf5_plt_cnt_00'+str(i),'r')\n",
    "    elif i < 1000 :\n",
    "        f = h5py.File(path+simulacion+'/'+'welbalanced_hdf5_plt_cnt_0'+str(i),'r')\n",
    "    else :\n",
    "        f = h5py.File(path+simulacion+'/'+'welbalanced_hdf5_plt_cnt_'+str(i),'r')\n",
    "#    print(f)\n",
    "\n",
    "\n",
    "    # Construyo la matriz con los bloques de los datos\n",
    "    # El orden debe ser (y,x)\n",
    "    for iby in range(njprocs):\n",
    "        for ibx in range(niprocs):\n",
    "            for iy in range(ncy1b):\n",
    "                for ix in range(ncx1b):\n",
    "                    pdens[i,iby*ncy1b+iy,ibx*ncx1b+ix]=f['dens'][ibx+iby*niprocs,0,iy,ix]\n",
    "                    pmagx[i,iby*ncy1b+iy,ibx*ncx1b+ix]=f['magx'][ibx+iby*niprocs,0,iy,ix]\n"
   ]
  },
  {
   "cell_type": "code",
   "execution_count": 76,
   "metadata": {},
   "outputs": [
    {
     "data": {
      "image/png": "[encoded data removed]",
      "text/plain": [
       "<Figure size 432x288 with 2 Axes>"
      ]
     },
     "metadata": {
      "needs_background": "light"
     },
     "output_type": "display_data"
    }
   ],
   "source": [
    "#plt.imshow(np.log(pdens[0,:,:]),cmap='rainbow', extent=rango,origin='lower')\n",
    "plt.imshow(pmagx[5,:,:],cmap='rainbow', extent=rango,origin='lower')\n",
    "plt.title('Dens')\n",
    "plt.ylabel(r'${y}$ [cm]',fontsize=17)  \n",
    "plt.xlabel(r'${x}$ [cm]',fontsize=17)\n",
    "plt.colorbar()\n",
    "plt.show()"
   ]
  },
  {
   "cell_type": "code",
   "execution_count": 81,
   "metadata": {},
   "outputs": [
    {
     "data": {
      "text/plain": [
       "<function matplotlib.pyplot.show(close=None, block=None)>"
      ]
     },
     "execution_count": 81,
     "metadata": {},
     "output_type": "execute_result"
    },
    {
     "data": {
      "image/png": "[encoded data removed]",
      "text/plain": [
       "<Figure size 432x288 with 1 Axes>"
      ]
     },
     "metadata": {
      "needs_background": "light"
     },
     "output_type": "display_data"
    }
   ],
   "source": [
    "#las coordenadas estan escritas dens[t,y,x]\n",
    "plt.plot(np.arange(ncy),pmagx[5,:,15],label='y')\n",
    "plt.show"
   ]
  },
  {
   "cell_type": "code",
   "execution_count": 90,
   "metadata": {},
   "outputs": [
    {
     "data": {
      "image/png": "[encoded data removed]",
      "text/plain": [
       "<Figure size 432x288 with 2 Axes>"
      ]
     },
     "metadata": {
      "needs_background": "light"
     },
     "output_type": "display_data"
    }
   ],
   "source": [
    "rango=(xmin,xmax,itmin,itmax)\n",
    "plt.imshow(pmagx[:,:,15],cmap='rainbow', extent=rango,origin='lower',aspect='auto')\n",
    "plt.title('Mag x')\n",
    "plt.ylabel(r'${t}$ [s]',fontsize=17)  \n",
    "plt.xlabel(r'${y}$ [cm]',fontsize=17)\n",
    "plt.colorbar()\n",
    "plt.show()"
   ]
  },
  {
   "cell_type": "code",
   "execution_count": null,
   "metadata": {},
   "outputs": [],
   "source": [
    "# Defino los índices de tiempo mínimo y máximo\n",
    "itmin = 0\n",
    "itmax = 5\n",
    "# Defino el tiempo físico\n",
    "time=np.arange(itmin, itmax+1)*0.5 # 1 plot cada 0.5 segundos\n",
    "#print(len(time))\n",
    "\n",
    "#pdens = np.zeros((len(time),ncy,ncx))\n",
    "pmagx = np.zeros((len(time),ncy,ncx))\n",
    "#print(pdens)\n",
    "for i in range(itmin,itmax+1):\n",
    "#    print('i=',i)\n",
    "    if   i < 10 :       # Poner el path que corresponda\n",
    "        f = h5py.File(path+simulacion+'/'+'welbalanced_hdf5_plt_cnt_000'+str(i),'r')\n",
    "    elif i < 100 :\n",
    "        f = h5py.File(path+simulacion+'/'+'welbalanced_hdf5_plt_cnt_00'+str(i),'r')\n",
    "    elif i < 1000 :\n",
    "        f = h5py.File(path+simulacion+'/'+'welbalanced_hdf5_plt_cnt_0'+str(i),'r')\n",
    "    else :\n",
    "        f = h5py.File(path+simulacion+'/'+'welbalanced_hdf5_plt_cnt_'+str(i),'r')\n",
    "#    print(f)\n",
    "\n",
    "\n",
    "plt.plot(np.arange(ncy),pmagx[5,:,15],label='y')\n",
    "plt.show\n",
    "\n",
    "    # Construyo la matriz con los bloques de los datos\n",
    "    # El orden debe ser (y,x)\n",
    "    for iby in range(njprocs):\n",
    "        for ibx in range(niprocs):\n",
    "            for iy in range(ncy1b):\n",
    "                for ix in range(ncx1b):\n",
    "                    pdens[i,iby*ncy1b+iy,ibx*ncx1b+ix]=f['dens'][ibx+iby*niprocs,0,iy,ix]\n",
    "                    pmagx[i,iby*ncy1b+iy,ibx*ncx1b+ix]=f['magx'][ibx+iby*niprocs,0,iy,ix]"
   ]
  },
  {
   "cell_type": "code",
   "execution_count": 12,
   "metadata": {},
   "outputs": [
    {
     "name": "stdout",
     "output_type": "stream",
     "text": [
      "6\n"
     ]
    }
   ],
   "source": [
    "print(iby)"
   ]
  },
  {
   "cell_type": "code",
   "execution_count": 11,
   "metadata": {},
   "outputs": [
    {
     "data": {
      "text/plain": [
       "Text(0.5, 0, 't [s]')"
      ]
     },
     "execution_count": 11,
     "metadata": {},
     "output_type": "execute_result"
    },
    {
     "data": {
      "image/png": "[encoded data removed]",
      "text/plain": [
       "<Figure size 432x288 with 1 Axes>"
      ]
     },
     "metadata": {
      "needs_background": "light"
     },
     "output_type": "display_data"
    }
   ],
   "source": [
    "pdens, = plt.plot(time,pdens,label='Densidad')\n",
    "plt.legend(handles=[pdens])\n",
    "    #plt.legend(handles=[pdens,pmagy])\n",
    "plt.tick_params( labelsize=17)\n",
    "plt.xlim(time[itmin], time[itmax])\n",
    "#plt.ylim(emin, emax)\n",
    "plt.title('Evolución de la densidad',fontsize=17)\n",
    "plt.ylabel( r'$\\rho$ [g/cm$^3$]',fontsize=17)\n",
    "plt.xlabel('t [s]',fontsize=17)\n",
    "#plt.savefig(path+simulacion +'/'+pos+'_energia.pdf', bbox_inches='tight')"
   ]
  },
  {
   "cell_type": "code",
   "execution_count": null,
   "metadata": {},
   "outputs": [],
   "source": []
  }
 ],
 "metadata": {
  "kernelspec": {
   "display_name": "Python 3 (ipykernel)",
   "language": "python",
   "name": "python3"
  },
  "language_info": {
   "codemirror_mode": {
    "name": "ipython",
    "version": 3
   },
   "file_extension": ".py",
   "mimetype": "text/x-python",
   "name": "python",
   "nbconvert_exporter": "python",
   "pygments_lexer": "ipython3",
   "version": "3.10.2"
  }
 },
 "nbformat": 4,
 "nbformat_minor": 4
}
