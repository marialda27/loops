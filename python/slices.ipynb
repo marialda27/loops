{
 "cells": [
  {
   "cell_type": "code",
   "execution_count": 1,
   "id": "244bdb3b",
   "metadata": {},
   "outputs": [],
   "source": [
    "import matplotlib.animation as animation\n",
    "import matplotlib.pyplot as pylt\n",
    "import numpy as np\n",
    "import pylab as plt\n",
    "import matplotlib.cm as matcm\n",
    "import matplotlib.colors as colors\n",
    "import sys\n",
    "import os\n",
    "sys.path.append('/home/cecere/Documentos/python_fomo')\n",
    "from readfomo import readgoftcube, readgoftcubechianti, regulargoftcube, gaussfitgoftcube\n",
    "import glob\n",
    "import sunpy.visualization.colormaps as cm\n",
    "import sunpy\n",
    "from astropy.visualization import SqrtStretch, ImageNormalize"
   ]
  },
  {
   "cell_type": "code",
   "execution_count": 2,
   "id": "87a3d97c",
   "metadata": {},
   "outputs": [
    {
     "name": "stdout",
     "output_type": "stream",
     "text": [
      "['/home/cecere/programas/fomo/fomo-c/example/example_loops/desequilibrio_5-131-t0014.txt', '/home/cecere/programas/fomo/fomo-c/example/example_loops/desequilibrio_5-131-t0017.txt', '/home/cecere/programas/fomo/fomo-c/example/example_loops/desequilibrio_5-131-t0018.txt', '/home/cecere/programas/fomo/fomo-c/example/example_loops/desequilibrio_5-131-t0010.txt', '/home/cecere/programas/fomo/fomo-c/example/example_loops/desequilibrio_5-131-t0013.txt', '/home/cecere/programas/fomo/fomo-c/example/example_loops/desequilibrio_5-131-t0000.txt', '/home/cecere/programas/fomo/fomo-c/example/example_loops/desequilibrio_5-131-t0004.txt', '/home/cecere/programas/fomo/fomo-c/example/example_loops/desequilibrio_5-131-t0019.txt', '/home/cecere/programas/fomo/fomo-c/example/example_loops/desequilibrio_5-131-t0005.txt', '/home/cecere/programas/fomo/fomo-c/example/example_loops/desequilibrio_5-131-t0001.txt', '/home/cecere/programas/fomo/fomo-c/example/example_loops/desequilibrio_5-131-t0016.txt', '/home/cecere/programas/fomo/fomo-c/example/example_loops/desequilibrio_5-131-t0011.txt', '/home/cecere/programas/fomo/fomo-c/example/example_loops/desequilibrio_5-131-t0015.txt', '/home/cecere/programas/fomo/fomo-c/example/example_loops/desequilibrio_5-131-t0002.txt', '/home/cecere/programas/fomo/fomo-c/example/example_loops/desequilibrio_5-131-t0012.txt', '/home/cecere/programas/fomo/fomo-c/example/example_loops/desequilibrio_5-131-t0003.txt', '/home/cecere/programas/fomo/fomo-c/example/example_loops/desequilibrio_5-131-t0007.txt', '/home/cecere/programas/fomo/fomo-c/example/example_loops/desequilibrio_5-131-t0009.txt', '/home/cecere/programas/fomo/fomo-c/example/example_loops/desequilibrio_5-131-t0006.txt', '/home/cecere/programas/fomo/fomo-c/example/example_loops/desequilibrio_5-131-t0008.txt']\n",
      "['/home/cecere/programas/fomo/fomo-c/example/example_loops/desequilibrio_5-131-t0000.txt', '/home/cecere/programas/fomo/fomo-c/example/example_loops/desequilibrio_5-131-t0001.txt', '/home/cecere/programas/fomo/fomo-c/example/example_loops/desequilibrio_5-131-t0002.txt', '/home/cecere/programas/fomo/fomo-c/example/example_loops/desequilibrio_5-131-t0003.txt', '/home/cecere/programas/fomo/fomo-c/example/example_loops/desequilibrio_5-131-t0004.txt', '/home/cecere/programas/fomo/fomo-c/example/example_loops/desequilibrio_5-131-t0005.txt', '/home/cecere/programas/fomo/fomo-c/example/example_loops/desequilibrio_5-131-t0006.txt', '/home/cecere/programas/fomo/fomo-c/example/example_loops/desequilibrio_5-131-t0007.txt', '/home/cecere/programas/fomo/fomo-c/example/example_loops/desequilibrio_5-131-t0008.txt', '/home/cecere/programas/fomo/fomo-c/example/example_loops/desequilibrio_5-131-t0009.txt', '/home/cecere/programas/fomo/fomo-c/example/example_loops/desequilibrio_5-131-t0010.txt', '/home/cecere/programas/fomo/fomo-c/example/example_loops/desequilibrio_5-131-t0011.txt', '/home/cecere/programas/fomo/fomo-c/example/example_loops/desequilibrio_5-131-t0012.txt', '/home/cecere/programas/fomo/fomo-c/example/example_loops/desequilibrio_5-131-t0013.txt', '/home/cecere/programas/fomo/fomo-c/example/example_loops/desequilibrio_5-131-t0014.txt', '/home/cecere/programas/fomo/fomo-c/example/example_loops/desequilibrio_5-131-t0015.txt', '/home/cecere/programas/fomo/fomo-c/example/example_loops/desequilibrio_5-131-t0016.txt', '/home/cecere/programas/fomo/fomo-c/example/example_loops/desequilibrio_5-131-t0017.txt', '/home/cecere/programas/fomo/fomo-c/example/example_loops/desequilibrio_5-131-t0018.txt', '/home/cecere/programas/fomo/fomo-c/example/example_loops/desequilibrio_5-131-t0019.txt']\n"
     ]
    }
   ],
   "source": [
    "# store filenames as a sorted list\n",
    "#unsorted=glob.glob('../example/example_FLASH/Afomo-hdf5-outputb.txt')\n",
    "#unsorted=glob.glob('/home/cecere/programas/fomo/fomo-c/example/example_loops/b2y280x2fC-171-t100.txt')\n",
    "unsorted=glob.glob('/home/cecere/programas/fomo/fomo-c/example/example_loops/desequilibrio_5-131-t*.txt')\n",
    "print(unsorted)\n",
    "filelist=sorted(unsorted)\n",
    "print(filelist)"
   ]
  },
  {
   "cell_type": "code",
   "execution_count": 7,
   "id": "853c90cf",
   "metadata": {},
   "outputs": [
    {
     "name": "stdout",
     "output_type": "stream",
     "text": [
      "Reading file /home/cecere/programas/fomo/fomo-c/example/example_loops/desequilibrio_5-131-t0019.txt\n",
      "xvec (350,)\n",
      "yvec (350,)\n",
      "emiss [[0. 0. 0. ... 0. 0. 0.]\n",
      " [0. 0. 0. ... 0. 0. 0.]\n",
      " [0. 0. 0. ... 0. 0. 0.]\n",
      " ...\n",
      " [0. 0. 0. ... 0. 0. 0.]\n",
      " [0. 0. 0. ... 0. 0. 0.]\n",
      " [0. 0. 0. ... 0. 0. 0.]]\n"
     ]
    }
   ],
   "source": [
    "# create data cube from file list\n",
    "print('Reading file',filelist[19])\n",
    "data,chiantifile=readgoftcubechianti(filelist[19])\n",
    "emiss,xvec,yvec,lvec=regulargoftcube(data)\n",
    "print('xvec',xvec.shape)\n",
    "print('yvec',yvec.shape)\n",
    "print('emiss',emiss)"
   ]
  },
  {
   "cell_type": "code",
   "execution_count": 13,
   "id": "a040b686",
   "metadata": {},
   "outputs": [
    {
     "name": "stdout",
     "output_type": "stream",
     "text": [
      "[ 0.06993007  0.20979021  0.34965035  0.48951048  0.62937063  0.76923078\n",
      "  0.90909094  1.048951    1.1888112   1.3286713   1.4685316   1.6083915\n",
      "  1.7482518   1.8881119   2.027972    2.1678324   2.3076923   2.4475524\n",
      "  2.5874126   2.7272727   2.8671329   3.0069931   3.1468532   3.2867136\n",
      "  3.4265735   3.5664334   3.7062938   3.8461537   3.9860141   4.125874\n",
      "  4.2657342   4.4055943   4.5454545   4.6853147   4.8251748   4.9650354\n",
      "  5.1048951   5.2447553   5.3846154   5.5244756   5.6643357   5.8041959\n",
      "  5.944056    6.0839162   6.2237768   6.3636365   6.5034966   6.6433568\n",
      "  6.7832165   6.9230771   7.0629373   7.2027974   7.3426576   7.4825172\n",
      "  7.6223779   7.762238    7.9020982   8.0419579   8.181818    8.3216791\n",
      "  8.4615383   8.6013985   8.7412586   8.8811188   9.0209799   9.1608391\n",
      "  9.3006992   9.4405594   9.5804205   9.7202797   9.8601398  10.\n",
      " 10.13986    10.279721   10.41958    10.559441   10.699301   10.839161\n",
      " 10.979021   11.118881   11.258741   11.398602   11.538462   11.678322\n",
      " 11.818182   11.958042   12.097903   12.237762   12.377623   12.517482\n",
      " 12.657343   12.797204   12.937063   13.076923   13.216783   13.356644\n",
      " 13.496504   13.636364   13.776224   13.916083   14.055944   14.195805\n",
      " 14.335665   14.475525   14.615384   14.755245   14.895105   15.034965\n",
      " 15.174826   15.314685   15.454546   15.594406   15.734265   15.874126\n",
      " 16.013987   16.153847   16.293707   16.433567   16.573427   16.713287\n",
      " 16.853148   16.993008   17.132868   17.272728   17.412586   17.552448\n",
      " 17.692308   17.832169   17.972029   18.111887   18.251749   18.391609\n",
      " 18.531469   18.671329   18.81119    18.95105    19.09091    19.23077\n",
      " 19.37063    19.51049    19.650351   19.790211   19.930071   20.069931\n",
      " 20.209791   20.349651   20.489511   20.62937    20.769232   20.909092\n",
      " 21.048952   21.188812   21.328671   21.468533   21.608393   21.748253\n",
      " 21.888113   22.027971   22.167833   22.307693   22.447554   22.587412\n",
      " 22.727272   22.867134   23.006994   23.146854   23.286713   23.426573\n",
      " 23.566435   23.706295   23.846155   23.986013   24.125874   24.265736\n",
      " 24.405596   24.545456   24.685314   24.825174   24.965036   25.104897\n",
      " 25.244757   25.384615   25.524475   25.664335   25.804197   25.944057\n",
      " 26.083916   26.223776   26.363636   26.503498   26.643358   26.783216\n",
      " 26.923077   27.062937   27.202799   27.342659   27.482517   27.622377\n",
      " 27.762238  ]\n",
      "[21.048952]\n"
     ]
    }
   ],
   "source": [
    "#posición en Mm del corte en x, y=cte\n",
    "newx=xvec[0:199]\n",
    "newy=yvec[150:151]\n",
    "print(newx)\n",
    "print(newy)"
   ]
  },
  {
   "cell_type": "code",
   "execution_count": 15,
   "id": "5756a678",
   "metadata": {},
   "outputs": [
    {
     "name": "stdout",
     "output_type": "stream",
     "text": [
      "(1, 199)\n"
     ]
    }
   ],
   "source": [
    "newemiss=emiss[150:151,0:199]\n",
    "allemiss=newemiss\n",
    "#print(allemiss)\n",
    "print(allemiss.shape)"
   ]
  },
  {
   "cell_type": "code",
   "execution_count": 16,
   "id": "e7f8dbe3",
   "metadata": {},
   "outputs": [
    {
     "name": "stdout",
     "output_type": "stream",
     "text": [
      "Reading file /home/cecere/programas/fomo/fomo-c/example/example_loops/desequilibrio_5-131-t0001.txt\n",
      "(2, 199)\n",
      "Reading file /home/cecere/programas/fomo/fomo-c/example/example_loops/desequilibrio_5-131-t0002.txt\n",
      "(3, 199)\n",
      "Reading file /home/cecere/programas/fomo/fomo-c/example/example_loops/desequilibrio_5-131-t0003.txt\n",
      "(4, 199)\n",
      "Reading file /home/cecere/programas/fomo/fomo-c/example/example_loops/desequilibrio_5-131-t0004.txt\n",
      "(5, 199)\n",
      "Reading file /home/cecere/programas/fomo/fomo-c/example/example_loops/desequilibrio_5-131-t0005.txt\n",
      "(6, 199)\n",
      "Reading file /home/cecere/programas/fomo/fomo-c/example/example_loops/desequilibrio_5-131-t0006.txt\n",
      "(7, 199)\n",
      "Reading file /home/cecere/programas/fomo/fomo-c/example/example_loops/desequilibrio_5-131-t0007.txt\n",
      "(8, 199)\n",
      "Reading file /home/cecere/programas/fomo/fomo-c/example/example_loops/desequilibrio_5-131-t0008.txt\n",
      "(9, 199)\n",
      "Reading file /home/cecere/programas/fomo/fomo-c/example/example_loops/desequilibrio_5-131-t0009.txt\n",
      "(10, 199)\n",
      "Reading file /home/cecere/programas/fomo/fomo-c/example/example_loops/desequilibrio_5-131-t0010.txt\n",
      "(11, 199)\n",
      "Reading file /home/cecere/programas/fomo/fomo-c/example/example_loops/desequilibrio_5-131-t0011.txt\n",
      "(12, 199)\n",
      "Reading file /home/cecere/programas/fomo/fomo-c/example/example_loops/desequilibrio_5-131-t0012.txt\n",
      "(13, 199)\n",
      "Reading file /home/cecere/programas/fomo/fomo-c/example/example_loops/desequilibrio_5-131-t0013.txt\n",
      "(14, 199)\n",
      "Reading file /home/cecere/programas/fomo/fomo-c/example/example_loops/desequilibrio_5-131-t0014.txt\n",
      "(15, 199)\n",
      "Reading file /home/cecere/programas/fomo/fomo-c/example/example_loops/desequilibrio_5-131-t0015.txt\n",
      "(16, 199)\n",
      "Reading file /home/cecere/programas/fomo/fomo-c/example/example_loops/desequilibrio_5-131-t0016.txt\n",
      "(17, 199)\n",
      "Reading file /home/cecere/programas/fomo/fomo-c/example/example_loops/desequilibrio_5-131-t0017.txt\n",
      "(18, 199)\n",
      "Reading file /home/cecere/programas/fomo/fomo-c/example/example_loops/desequilibrio_5-131-t0018.txt\n",
      "(19, 199)\n",
      "Reading file /home/cecere/programas/fomo/fomo-c/example/example_loops/desequilibrio_5-131-t0019.txt\n",
      "(20, 199)\n"
     ]
    }
   ],
   "source": [
    "for filename in filelist[1:]:\n",
    "    print('Reading file',filename)\n",
    "    data=readgoftcube(filename)\n",
    "    emiss,xvec,yvec,lvec=regulargoftcube(data)\n",
    "    #tomo un ancho en y para que quede mejor el gráfico\n",
    "    newemiss=emiss[150:151,0:199]\n",
    "    #construyo una nueva matriz, suma de los cortes en cada tiempo\n",
    "    allemiss=np.concatenate((allemiss,newemiss), axis=0)\n",
    "    print(allemiss.shape)\n"
   ]
  },
  {
   "cell_type": "code",
   "execution_count": 17,
   "id": "c052297d",
   "metadata": {},
   "outputs": [
    {
     "name": "stdout",
     "output_type": "stream",
     "text": [
      "(199, 20)\n"
     ]
    }
   ],
   "source": [
    "#redefino el tamaño de los vectores\n",
    "#xvec=np.linspace(0.,500.,num=len(allemiss))\n",
    "#yvec=newx    \n",
    "#transpongo la matriz para que t sea el eje x, y x sea el eje y    \n",
    "allemiss=np.transpose(allemiss)\n",
    "print(allemiss.shape)\n",
    "\n"
   ]
  },
  {
   "cell_type": "code",
   "execution_count": 18,
   "id": "d57f9f18",
   "metadata": {},
   "outputs": [],
   "source": [
    "# set colour map\n",
    "cmap=matcm.hot\n",
    "aiafilter=os.path.basename(chiantifile)\n",
    "if ('goft_table_aia094' in aiafilter): cmap=plt.get_cmap('sdoaia094')\n",
    "if ('goft_table_aia131' in aiafilter): cmap=plt.get_cmap('sdoaia131')\n",
    "if ('goft_table_aia171' in aiafilter): cmap=plt.get_cmap('sdoaia171')\n",
    "if ('goft_table_aia193' in aiafilter): cmap=plt.get_cmap('sdoaia193')\n",
    "if ('goft_table_aia211' in aiafilter): cmap=plt.get_cmap('sdoaia211')\n",
    "if ('goft_table_aia304' in aiafilter): cmap=plt.get_cmap('sdoaia304')\n",
    "if ('goft_table_aia335' in aiafilter): cmap=plt.get_cmap('sdoaia335')\n",
    "#Estos valores de normalización son los necesarios para que la corona brille hasta una altura similar al filtro correspondiente\n",
    "if ('goft_table_aia094' in aiafilter): norm=colors.LogNorm(1.5, 50)\n",
    "if ('goft_table_aia131' in aiafilter): norm=colors.LogNorm(7, 1200)\n",
    "if ('goft_table_aia171' in aiafilter): norm=ImageNormalize(vmin=60000, vmax=1000000, stretch=SqrtStretch())\n",
    "#if ('goft_table_aia171' in aiafilter): norm=ImageNormalize(vmin=10, vmax=6000, stretch=SqrtStretch())\n",
    "if ('goft_table_aia193' in aiafilter): norm=colors.LogNorm(1, 6000)\n",
    "if ('goft_table_aia211' in aiafilter): norm=colors.LogNorm(1, 13000)\n",
    "if ('goft_table_aia304' in aiafilter): norm=colors.LogNorm(1, 600)\n",
    "if ('goft_table_aia335' in aiafilter): norm=colors.LogNorm(3.5, 1000)"
   ]
  },
  {
   "cell_type": "code",
   "execution_count": 19,
   "id": "3d887197",
   "metadata": {},
   "outputs": [],
   "source": [
    "L0 = 35 #Mm\n",
    "#print(xvec.size)\n",
    "#print(xvec)\n",
    "#print(xvec/np.amax(xvec)*L0)\n",
    "xvecdim = xvec/np.amax(xvec)*L0\n",
    "tdim=np.linspace(0.,len(allemiss[2])*0.5,num=len(allemiss[2]))\n",
    "#print(tdim)\n",
    "#print(len(allemiss[2]))"
   ]
  },
  {
   "cell_type": "code",
   "execution_count": 20,
   "id": "b618ddcc",
   "metadata": {},
   "outputs": [
    {
     "data": {
      "image/png": "[encoded data removed]",
      "text/plain": [
       "<Figure size 1440x432 with 2 Axes>"
      ]
     },
     "metadata": {
      "needs_background": "light"
     },
     "output_type": "display_data"
    }
   ],
   "source": [
    "# initiate plot\n",
    "fig = plt.figure(figsize=(20,6))\n",
    "ax = fig.add_subplot(111)\n",
    "ax.set_aspect('auto')\n",
    "ax.set_xlabel('$t$ [s]')\n",
    "ax.set_ylabel('$r$ [Mm]')\n",
    "# cut off the emission at percent_emiss of maximum intensity of all the datacubes\n",
    "# even if it is 99%, it clips off very bright pixels, allowing for the entire field of view to be rendered\n",
    "percent_emiss=99\n",
    "#im = ax.imshow(allemiss,extent=(np.amin(tdim),np.amax(tdim),np.amin(xvecdim),np.amax(xvecdim)),cmap=cmap,aspect='auto',origin='lower')\n",
    "#im = ax.imshow(allemiss,cmap=cmap,aspect='auto',norm=norm,origin='lower')\n",
    "im = ax.imshow(allemiss,cmap=cmap,aspect='auto',norm=colors.LogNorm(7,1200),origin='lower')\n",
    "#annotation=ax.annotate(format(0,'04d'),(.93,.97),textcoords='axes fraction',color='white')\n",
    "plt.title('z=20Mm')\n",
    "cb=plt.colorbar(im)\n",
    "cb.set_label('DN/s')\n",
    "cb.set_ticklabels\n",
    "plt.tight_layout()\n",
    "plt.show() "
   ]
  },
  {
   "cell_type": "code",
   "execution_count": null,
   "id": "7ec88098",
   "metadata": {},
   "outputs": [],
   "source": []
  }
 ],
 "metadata": {
  "kernelspec": {
   "display_name": "Python 3 (ipykernel)",
   "language": "python",
   "name": "python3"
  },
  "language_info": {
   "codemirror_mode": {
    "name": "ipython",
    "version": 3
   },
   "file_extension": ".py",
   "mimetype": "text/x-python",
   "name": "python",
   "nbconvert_exporter": "python",
   "pygments_lexer": "ipython3",
   "version": "3.10.2"
  }
 },
 "nbformat": 4,
 "nbformat_minor": 5
}
